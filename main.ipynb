{
 "cells": [
  {
   "cell_type": "markdown",
   "id": "e568f312",
   "metadata": {},
   "source": [
    "### Урок"
   ]
  },
  {
   "cell_type": "code",
   "execution_count": null,
   "id": "cb41d950",
   "metadata": {},
   "outputs": [],
   "source": [
    "import pandas as pd"
   ]
  },
  {
   "cell_type": "code",
   "execution_count": 4,
   "id": "1f8e7764",
   "metadata": {},
   "outputs": [],
   "source": [
    "df = pd.read_csv(\"World-happiness-report-2024.csv\")"
   ]
  },
  {
   "cell_type": "markdown",
   "id": "aaa15808",
   "metadata": {},
   "source": [
    "Информация о датафрейме"
   ]
  },
  {
   "cell_type": "code",
   "execution_count": null,
   "id": "242bf5c4",
   "metadata": {},
   "outputs": [],
   "source": [
    "print(df.info())"
   ]
  },
  {
   "cell_type": "code",
   "execution_count": null,
   "id": "5355bcb2",
   "metadata": {},
   "outputs": [],
   "source": [
    "print(df.describe())"
   ]
  },
  {
   "cell_type": "markdown",
   "id": "bda78a4c",
   "metadata": {},
   "source": [
    "Первые - последние строки"
   ]
  },
  {
   "cell_type": "code",
   "execution_count": null,
   "id": "092c54fa",
   "metadata": {},
   "outputs": [],
   "source": [
    "print(df.head())"
   ]
  },
  {
   "cell_type": "code",
   "execution_count": null,
   "id": "cea34015",
   "metadata": {},
   "outputs": [],
   "source": [
    "print(df.tail())"
   ]
  },
  {
   "cell_type": "markdown",
   "id": "a471f015",
   "metadata": {},
   "source": [
    "Определенные столбцы"
   ]
  },
  {
   "cell_type": "code",
   "execution_count": null,
   "id": "1133a002",
   "metadata": {},
   "outputs": [],
   "source": [
    "print(df[['Country name', 'Regional indicator']])"
   ]
  },
  {
   "cell_type": "code",
   "execution_count": null,
   "id": "c987dcee",
   "metadata": {},
   "outputs": [],
   "source": [
    "print(df.loc[56])"
   ]
  },
  {
   "cell_type": "markdown",
   "id": "187e6a9e",
   "metadata": {},
   "source": [
    "Содержимое определенного столбца в строке"
   ]
  },
  {
   "cell_type": "code",
   "execution_count": null,
   "id": "374a54eb",
   "metadata": {},
   "outputs": [],
   "source": [
    "print(df.loc[56, \"Healthy life expectancy\"])"
   ]
  },
  {
   "cell_type": "markdown",
   "id": "bfa9cd6e",
   "metadata": {},
   "source": [
    "Содержимое определенного столбца пор условию"
   ]
  },
  {
   "cell_type": "code",
   "execution_count": null,
   "id": "fdc886f2",
   "metadata": {},
   "outputs": [],
   "source": [
    "print(df[df[\"Healthy life expectancy\"] > 0.7])"
   ]
  },
  {
   "cell_type": "markdown",
   "id": "6517870c",
   "metadata": {},
   "source": [
    "Модификация данных"
   ]
  },
  {
   "cell_type": "code",
   "execution_count": 43,
   "id": "fd5b17f1",
   "metadata": {},
   "outputs": [],
   "source": [
    "df = pd.read_csv(\"hh.csv\")"
   ]
  },
  {
   "cell_type": "markdown",
   "id": "51716305",
   "metadata": {},
   "source": [
    "Добавляем столбец"
   ]
  },
  {
   "cell_type": "code",
   "execution_count": null,
   "id": "06633f40",
   "metadata": {},
   "outputs": [],
   "source": [
    "df['Test'] = [new for new in range(29)]\n",
    "\n",
    "print(df)"
   ]
  },
  {
   "cell_type": "markdown",
   "id": "abf72151",
   "metadata": {},
   "source": [
    "Удаляем"
   ]
  },
  {
   "cell_type": "code",
   "execution_count": null,
   "id": "8506c564",
   "metadata": {},
   "outputs": [],
   "source": [
    "df.drop('Test', axis=1, inplace=True)\n",
    "\n",
    "print(df)"
   ]
  },
  {
   "cell_type": "code",
   "execution_count": null,
   "id": "21165b5f",
   "metadata": {},
   "outputs": [],
   "source": [
    "df.drop(28, axis=0)\n",
    "\n",
    "print(df)"
   ]
  },
  {
   "cell_type": "markdown",
   "id": "d0b80f32",
   "metadata": {},
   "source": [
    "Анализ"
   ]
  },
  {
   "cell_type": "code",
   "execution_count": null,
   "id": "ae3e5abc",
   "metadata": {},
   "outputs": [],
   "source": [
    "df = pd.read_csv(\"animal.csv\")\n",
    "\n",
    "print(df)"
   ]
  },
  {
   "cell_type": "code",
   "execution_count": null,
   "id": "7136ef29",
   "metadata": {},
   "outputs": [],
   "source": [
    "df.info()"
   ]
  },
  {
   "cell_type": "markdown",
   "id": "0949dd8a",
   "metadata": {},
   "source": [
    "Заменяем NaN"
   ]
  },
  {
   "cell_type": "code",
   "execution_count": null,
   "id": "53d16629",
   "metadata": {},
   "outputs": [],
   "source": [
    "df.fillna(0, inplace=True)\n",
    "\n",
    "print(df)"
   ]
  },
  {
   "cell_type": "markdown",
   "id": "6febd150",
   "metadata": {},
   "source": [
    "Удаляем NaN"
   ]
  },
  {
   "cell_type": "code",
   "execution_count": null,
   "id": "9240e3bd",
   "metadata": {},
   "outputs": [],
   "source": [
    "df.dropna(inplace=True)\n",
    "\n",
    "print(df)"
   ]
  },
  {
   "cell_type": "markdown",
   "id": "d3333026",
   "metadata": {},
   "source": [
    "Группировка"
   ]
  },
  {
   "cell_type": "code",
   "execution_count": null,
   "id": "697daf31",
   "metadata": {},
   "outputs": [],
   "source": [
    "group = df.groupby('Пища')[\"Средняя продолжительность жизни\"].mean()\n",
    "\n",
    "print(group)"
   ]
  },
  {
   "cell_type": "markdown",
   "id": "b9d32db0",
   "metadata": {},
   "source": [
    "Сохранение результатов"
   ]
  },
  {
   "cell_type": "code",
   "execution_count": 45,
   "id": "977e7d3c",
   "metadata": {},
   "outputs": [],
   "source": [
    "df.to_csv(\"output.csv\", index=False)"
   ]
  },
  {
   "cell_type": "markdown",
   "id": "08726ba2",
   "metadata": {},
   "source": [
    "### Эксперименты и домашка"
   ]
  },
  {
   "cell_type": "markdown",
   "id": "970c5e4e",
   "metadata": {},
   "source": [
    "#### Титаник"
   ]
  },
  {
   "cell_type": "code",
   "execution_count": 58,
   "id": "0c74212a",
   "metadata": {},
   "outputs": [
    {
     "data": {
      "text/html": [
       "<div>\n",
       "<style scoped>\n",
       "    .dataframe tbody tr th:only-of-type {\n",
       "        vertical-align: middle;\n",
       "    }\n",
       "\n",
       "    .dataframe tbody tr th {\n",
       "        vertical-align: top;\n",
       "    }\n",
       "\n",
       "    .dataframe thead th {\n",
       "        text-align: right;\n",
       "    }\n",
       "</style>\n",
       "<table border=\"1\" class=\"dataframe\">\n",
       "  <thead>\n",
       "    <tr style=\"text-align: right;\">\n",
       "      <th></th>\n",
       "      <th>PassengerID</th>\n",
       "      <th>Name</th>\n",
       "      <th>PClass</th>\n",
       "      <th>Age</th>\n",
       "      <th>Sex</th>\n",
       "      <th>Survived</th>\n",
       "      <th>SexCode</th>\n",
       "    </tr>\n",
       "  </thead>\n",
       "  <tbody>\n",
       "    <tr>\n",
       "      <th>0</th>\n",
       "      <td>1</td>\n",
       "      <td>Allen, Miss Elisabeth Walton</td>\n",
       "      <td>1st</td>\n",
       "      <td>29.00</td>\n",
       "      <td>female</td>\n",
       "      <td>1</td>\n",
       "      <td>1</td>\n",
       "    </tr>\n",
       "    <tr>\n",
       "      <th>1</th>\n",
       "      <td>2</td>\n",
       "      <td>Allison, Miss Helen Loraine</td>\n",
       "      <td>1st</td>\n",
       "      <td>2.00</td>\n",
       "      <td>female</td>\n",
       "      <td>0</td>\n",
       "      <td>1</td>\n",
       "    </tr>\n",
       "    <tr>\n",
       "      <th>2</th>\n",
       "      <td>3</td>\n",
       "      <td>Allison, Mr Hudson Joshua Creighton</td>\n",
       "      <td>1st</td>\n",
       "      <td>30.00</td>\n",
       "      <td>male</td>\n",
       "      <td>0</td>\n",
       "      <td>0</td>\n",
       "    </tr>\n",
       "    <tr>\n",
       "      <th>3</th>\n",
       "      <td>4</td>\n",
       "      <td>Allison, Mrs Hudson JC (Bessie Waldo Daniels)</td>\n",
       "      <td>1st</td>\n",
       "      <td>25.00</td>\n",
       "      <td>female</td>\n",
       "      <td>0</td>\n",
       "      <td>1</td>\n",
       "    </tr>\n",
       "    <tr>\n",
       "      <th>4</th>\n",
       "      <td>5</td>\n",
       "      <td>Allison, Master Hudson Trevor</td>\n",
       "      <td>1st</td>\n",
       "      <td>0.92</td>\n",
       "      <td>male</td>\n",
       "      <td>1</td>\n",
       "      <td>0</td>\n",
       "    </tr>\n",
       "  </tbody>\n",
       "</table>\n",
       "</div>"
      ],
      "text/plain": [
       "   PassengerID                                           Name PClass    Age  \\\n",
       "0            1                   Allen, Miss Elisabeth Walton    1st  29.00   \n",
       "1            2                    Allison, Miss Helen Loraine    1st   2.00   \n",
       "2            3            Allison, Mr Hudson Joshua Creighton    1st  30.00   \n",
       "3            4  Allison, Mrs Hudson JC (Bessie Waldo Daniels)    1st  25.00   \n",
       "4            5                  Allison, Master Hudson Trevor    1st   0.92   \n",
       "\n",
       "      Sex  Survived  SexCode  \n",
       "0  female         1        1  \n",
       "1  female         0        1  \n",
       "2    male         0        0  \n",
       "3  female         0        1  \n",
       "4    male         1        0  "
      ]
     },
     "execution_count": 58,
     "metadata": {},
     "output_type": "execute_result"
    }
   ],
   "source": [
    "titanic_df = pd.read_csv(\"titanic.csv\")\n",
    "\n",
    "titanic_df.head()"
   ]
  },
  {
   "cell_type": "code",
   "execution_count": 59,
   "id": "d0bc440b",
   "metadata": {},
   "outputs": [
    {
     "name": "stdout",
     "output_type": "stream",
     "text": [
      "<class 'pandas.core.frame.DataFrame'>\n",
      "RangeIndex: 1313 entries, 0 to 1312\n",
      "Data columns (total 7 columns):\n",
      " #   Column       Non-Null Count  Dtype  \n",
      "---  ------       --------------  -----  \n",
      " 0   PassengerID  1313 non-null   int64  \n",
      " 1   Name         1313 non-null   object \n",
      " 2   PClass       1313 non-null   object \n",
      " 3   Age          756 non-null    float64\n",
      " 4   Sex          1313 non-null   object \n",
      " 5   Survived     1313 non-null   int64  \n",
      " 6   SexCode      1313 non-null   int64  \n",
      "dtypes: float64(1), int64(3), object(3)\n",
      "memory usage: 71.9+ KB\n"
     ]
    }
   ],
   "source": [
    "titanic_df.info()"
   ]
  },
  {
   "cell_type": "code",
   "execution_count": 60,
   "id": "0a07e272",
   "metadata": {},
   "outputs": [
    {
     "data": {
      "text/html": [
       "<div>\n",
       "<style scoped>\n",
       "    .dataframe tbody tr th:only-of-type {\n",
       "        vertical-align: middle;\n",
       "    }\n",
       "\n",
       "    .dataframe tbody tr th {\n",
       "        vertical-align: top;\n",
       "    }\n",
       "\n",
       "    .dataframe thead th {\n",
       "        text-align: right;\n",
       "    }\n",
       "</style>\n",
       "<table border=\"1\" class=\"dataframe\">\n",
       "  <thead>\n",
       "    <tr style=\"text-align: right;\">\n",
       "      <th></th>\n",
       "      <th>PassengerID</th>\n",
       "      <th>Age</th>\n",
       "      <th>Survived</th>\n",
       "      <th>SexCode</th>\n",
       "    </tr>\n",
       "  </thead>\n",
       "  <tbody>\n",
       "    <tr>\n",
       "      <th>count</th>\n",
       "      <td>1313.000000</td>\n",
       "      <td>756.000000</td>\n",
       "      <td>1313.000000</td>\n",
       "      <td>1313.000000</td>\n",
       "    </tr>\n",
       "    <tr>\n",
       "      <th>mean</th>\n",
       "      <td>657.000000</td>\n",
       "      <td>30.397989</td>\n",
       "      <td>0.342727</td>\n",
       "      <td>0.351866</td>\n",
       "    </tr>\n",
       "    <tr>\n",
       "      <th>std</th>\n",
       "      <td>379.174762</td>\n",
       "      <td>14.259049</td>\n",
       "      <td>0.474802</td>\n",
       "      <td>0.477734</td>\n",
       "    </tr>\n",
       "    <tr>\n",
       "      <th>min</th>\n",
       "      <td>1.000000</td>\n",
       "      <td>0.170000</td>\n",
       "      <td>0.000000</td>\n",
       "      <td>0.000000</td>\n",
       "    </tr>\n",
       "    <tr>\n",
       "      <th>25%</th>\n",
       "      <td>329.000000</td>\n",
       "      <td>21.000000</td>\n",
       "      <td>0.000000</td>\n",
       "      <td>0.000000</td>\n",
       "    </tr>\n",
       "    <tr>\n",
       "      <th>50%</th>\n",
       "      <td>657.000000</td>\n",
       "      <td>28.000000</td>\n",
       "      <td>0.000000</td>\n",
       "      <td>0.000000</td>\n",
       "    </tr>\n",
       "    <tr>\n",
       "      <th>75%</th>\n",
       "      <td>985.000000</td>\n",
       "      <td>39.000000</td>\n",
       "      <td>1.000000</td>\n",
       "      <td>1.000000</td>\n",
       "    </tr>\n",
       "    <tr>\n",
       "      <th>max</th>\n",
       "      <td>1313.000000</td>\n",
       "      <td>71.000000</td>\n",
       "      <td>1.000000</td>\n",
       "      <td>1.000000</td>\n",
       "    </tr>\n",
       "  </tbody>\n",
       "</table>\n",
       "</div>"
      ],
      "text/plain": [
       "       PassengerID         Age     Survived      SexCode\n",
       "count  1313.000000  756.000000  1313.000000  1313.000000\n",
       "mean    657.000000   30.397989     0.342727     0.351866\n",
       "std     379.174762   14.259049     0.474802     0.477734\n",
       "min       1.000000    0.170000     0.000000     0.000000\n",
       "25%     329.000000   21.000000     0.000000     0.000000\n",
       "50%     657.000000   28.000000     0.000000     0.000000\n",
       "75%     985.000000   39.000000     1.000000     1.000000\n",
       "max    1313.000000   71.000000     1.000000     1.000000"
      ]
     },
     "execution_count": 60,
     "metadata": {},
     "output_type": "execute_result"
    }
   ],
   "source": [
    "titanic_df.describe()"
   ]
  },
  {
   "cell_type": "markdown",
   "id": "b3f4f9ac",
   "metadata": {},
   "source": [
    "Сколько выжило в контексте мужчин и женщин"
   ]
  },
  {
   "cell_type": "code",
   "execution_count": 61,
   "id": "96862195",
   "metadata": {},
   "outputs": [
    {
     "name": "stdout",
     "output_type": "stream",
     "text": [
      "Sex     Survived\n",
      "female  0           154\n",
      "        1           308\n",
      "male    0           709\n",
      "        1           142\n",
      "Name: PassengerID, dtype: int64\n"
     ]
    }
   ],
   "source": [
    "print(titanic_df.groupby(['Sex', 'Survived'])['PassengerID'].count())"
   ]
  },
  {
   "cell_type": "markdown",
   "id": "efbe6b69",
   "metadata": {},
   "source": [
    "#### Зарплата"
   ]
  },
  {
   "cell_type": "code",
   "execution_count": 57,
   "id": "afe42a73",
   "metadata": {},
   "outputs": [
    {
     "data": {
      "text/html": [
       "<div>\n",
       "<style scoped>\n",
       "    .dataframe tbody tr th:only-of-type {\n",
       "        vertical-align: middle;\n",
       "    }\n",
       "\n",
       "    .dataframe tbody tr th {\n",
       "        vertical-align: top;\n",
       "    }\n",
       "\n",
       "    .dataframe thead th {\n",
       "        text-align: right;\n",
       "    }\n",
       "</style>\n",
       "<table border=\"1\" class=\"dataframe\">\n",
       "  <thead>\n",
       "    <tr style=\"text-align: right;\">\n",
       "      <th></th>\n",
       "      <th>Name</th>\n",
       "      <th>City</th>\n",
       "      <th>Salary</th>\n",
       "    </tr>\n",
       "  </thead>\n",
       "  <tbody>\n",
       "    <tr>\n",
       "      <th>0</th>\n",
       "      <td>Аня</td>\n",
       "      <td>Томск</td>\n",
       "      <td>200000.0</td>\n",
       "    </tr>\n",
       "    <tr>\n",
       "      <th>1</th>\n",
       "      <td>Боб</td>\n",
       "      <td>Москва</td>\n",
       "      <td>350000.0</td>\n",
       "    </tr>\n",
       "    <tr>\n",
       "      <th>2</th>\n",
       "      <td>Чарли</td>\n",
       "      <td>Москва</td>\n",
       "      <td>270000.0</td>\n",
       "    </tr>\n",
       "    <tr>\n",
       "      <th>3</th>\n",
       "      <td>Лиза</td>\n",
       "      <td>Томск</td>\n",
       "      <td>70000.0</td>\n",
       "    </tr>\n",
       "    <tr>\n",
       "      <th>4</th>\n",
       "      <td>Настя</td>\n",
       "      <td>NaN</td>\n",
       "      <td>35000.0</td>\n",
       "    </tr>\n",
       "  </tbody>\n",
       "</table>\n",
       "</div>"
      ],
      "text/plain": [
       "    Name    City    Salary\n",
       "0    Аня   Томск  200000.0\n",
       "1    Боб  Москва  350000.0\n",
       "2  Чарли  Москва  270000.0\n",
       "3   Лиза   Томск   70000.0\n",
       "4  Настя     NaN   35000.0"
      ]
     },
     "execution_count": 57,
     "metadata": {},
     "output_type": "execute_result"
    }
   ],
   "source": [
    "salary_df = pd.read_csv(\"dz.csv\")\n",
    "salary_df.head()"
   ]
  },
  {
   "cell_type": "code",
   "execution_count": 62,
   "id": "550b3d17",
   "metadata": {},
   "outputs": [
    {
     "name": "stdout",
     "output_type": "stream",
     "text": [
      "<class 'pandas.core.frame.DataFrame'>\n",
      "RangeIndex: 12 entries, 0 to 11\n",
      "Data columns (total 3 columns):\n",
      " #   Column  Non-Null Count  Dtype  \n",
      "---  ------  --------------  -----  \n",
      " 0   Name    12 non-null     object \n",
      " 1   City    10 non-null     object \n",
      " 2   Salary  11 non-null     float64\n",
      "dtypes: float64(1), object(2)\n",
      "memory usage: 416.0+ bytes\n"
     ]
    }
   ],
   "source": [
    "salary_df.info()"
   ]
  },
  {
   "cell_type": "code",
   "execution_count": 64,
   "id": "3270d722",
   "metadata": {},
   "outputs": [
    {
     "name": "stdout",
     "output_type": "stream",
     "text": [
      "City\n",
      "Москва    211400.0\n",
      "Томск      91250.0\n",
      "Name: Salary, dtype: float64\n"
     ]
    }
   ],
   "source": [
    "group = salary_df.groupby('City')['Salary'].mean()\n",
    "\n",
    "print(group)"
   ]
  }
 ],
 "metadata": {
  "kernelspec": {
   "display_name": ".venv",
   "language": "python",
   "name": "python3"
  },
  "language_info": {
   "codemirror_mode": {
    "name": "ipython",
    "version": 3
   },
   "file_extension": ".py",
   "mimetype": "text/x-python",
   "name": "python",
   "nbconvert_exporter": "python",
   "pygments_lexer": "ipython3",
   "version": "3.10.10"
  }
 },
 "nbformat": 4,
 "nbformat_minor": 5
}
