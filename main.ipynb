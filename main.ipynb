{
 "cells": [
  {
   "cell_type": "markdown",
   "id": "e568f312",
   "metadata": {},
   "source": [
    "## Урок 1"
   ]
  },
  {
   "cell_type": "code",
   "execution_count": 1,
   "id": "cb41d950",
   "metadata": {},
   "outputs": [],
   "source": [
    "import pandas as pd"
   ]
  },
  {
   "cell_type": "code",
   "execution_count": 2,
   "id": "1f8e7764",
   "metadata": {},
   "outputs": [],
   "source": [
    "df = pd.read_csv(\"World-happiness-report-2024.csv\")"
   ]
  },
  {
   "cell_type": "markdown",
   "id": "aaa15808",
   "metadata": {},
   "source": [
    "Информация о датафрейме"
   ]
  },
  {
   "cell_type": "code",
   "execution_count": 3,
   "id": "242bf5c4",
   "metadata": {},
   "outputs": [
    {
     "name": "stdout",
     "output_type": "stream",
     "text": [
      "<class 'pandas.core.frame.DataFrame'>\n",
      "RangeIndex: 143 entries, 0 to 142\n",
      "Data columns (total 12 columns):\n",
      " #   Column                        Non-Null Count  Dtype  \n",
      "---  ------                        --------------  -----  \n",
      " 0   Country name                  143 non-null    object \n",
      " 1   Regional indicator            143 non-null    object \n",
      " 2   Ladder score                  143 non-null    float64\n",
      " 3   upperwhisker                  143 non-null    float64\n",
      " 4   lowerwhisker                  143 non-null    float64\n",
      " 5   Log GDP per capita            140 non-null    float64\n",
      " 6   Social support                140 non-null    float64\n",
      " 7   Healthy life expectancy       140 non-null    float64\n",
      " 8   Freedom to make life choices  140 non-null    float64\n",
      " 9   Generosity                    140 non-null    float64\n",
      " 10  Perceptions of corruption     140 non-null    float64\n",
      " 11  Dystopia + residual           140 non-null    float64\n",
      "dtypes: float64(10), object(2)\n",
      "memory usage: 13.5+ KB\n",
      "None\n"
     ]
    }
   ],
   "source": [
    "print(df.info())"
   ]
  },
  {
   "cell_type": "code",
   "execution_count": 4,
   "id": "5355bcb2",
   "metadata": {},
   "outputs": [
    {
     "name": "stdout",
     "output_type": "stream",
     "text": [
      "       Ladder score  upperwhisker  lowerwhisker  Log GDP per capita  \\\n",
      "count    143.000000    143.000000    143.000000          140.000000   \n",
      "mean       5.527580      5.641175      5.413972            1.378807   \n",
      "std        1.170717      1.155008      1.187133            0.425098   \n",
      "min        1.721000      1.775000      1.667000            0.000000   \n",
      "25%        4.726000      4.845500      4.606000            1.077750   \n",
      "50%        5.785000      5.895000      5.674000            1.431500   \n",
      "75%        6.416000      6.507500      6.319000            1.741500   \n",
      "max        7.741000      7.815000      7.667000            2.141000   \n",
      "\n",
      "       Social support  Healthy life expectancy  Freedom to make life choices  \\\n",
      "count      140.000000               140.000000                    140.000000   \n",
      "mean         1.134329                 0.520886                      0.620621   \n",
      "std          0.333317                 0.164923                      0.162492   \n",
      "min          0.000000                 0.000000                      0.000000   \n",
      "25%          0.921750                 0.398000                      0.527500   \n",
      "50%          1.237500                 0.549500                      0.641000   \n",
      "75%          1.383250                 0.648500                      0.736000   \n",
      "max          1.617000                 0.857000                      0.863000   \n",
      "\n",
      "       Generosity  Perceptions of corruption  Dystopia + residual  \n",
      "count  140.000000                 140.000000           140.000000  \n",
      "mean     0.146271                   0.154121             1.575914  \n",
      "std      0.073441                   0.126238             0.537459  \n",
      "min      0.000000                   0.000000            -0.073000  \n",
      "25%      0.091000                   0.068750             1.308250  \n",
      "50%      0.136500                   0.120500             1.644500  \n",
      "75%      0.192500                   0.193750             1.881750  \n",
      "max      0.401000                   0.575000             2.998000  \n"
     ]
    }
   ],
   "source": [
    "print(df.describe())"
   ]
  },
  {
   "cell_type": "markdown",
   "id": "bda78a4c",
   "metadata": {},
   "source": [
    "Первые - последние строки"
   ]
  },
  {
   "cell_type": "code",
   "execution_count": 5,
   "id": "092c54fa",
   "metadata": {},
   "outputs": [
    {
     "name": "stdout",
     "output_type": "stream",
     "text": [
      "  Country name            Regional indicator  Ladder score  upperwhisker  \\\n",
      "0      Finland                Western Europe         7.741         7.815   \n",
      "1      Denmark                Western Europe         7.583         7.665   \n",
      "2      Iceland                Western Europe         7.525         7.618   \n",
      "3       Sweden                Western Europe         7.344         7.422   \n",
      "4       Israel  Middle East and North Africa         7.341         7.405   \n",
      "\n",
      "   lowerwhisker  Log GDP per capita  Social support  Healthy life expectancy  \\\n",
      "0         7.667               1.844           1.572                    0.695   \n",
      "1         7.500               1.908           1.520                    0.699   \n",
      "2         7.433               1.881           1.617                    0.718   \n",
      "3         7.267               1.878           1.501                    0.724   \n",
      "4         7.277               1.803           1.513                    0.740   \n",
      "\n",
      "   Freedom to make life choices  Generosity  Perceptions of corruption  \\\n",
      "0                         0.859       0.142                      0.546   \n",
      "1                         0.823       0.204                      0.548   \n",
      "2                         0.819       0.258                      0.182   \n",
      "3                         0.838       0.221                      0.524   \n",
      "4                         0.641       0.153                      0.193   \n",
      "\n",
      "   Dystopia + residual  \n",
      "0                2.082  \n",
      "1                1.881  \n",
      "2                2.050  \n",
      "3                1.658  \n",
      "4                2.298  \n"
     ]
    }
   ],
   "source": [
    "print(df.head())"
   ]
  },
  {
   "cell_type": "code",
   "execution_count": 6,
   "id": "cea34015",
   "metadata": {},
   "outputs": [
    {
     "name": "stdout",
     "output_type": "stream",
     "text": [
      "         Country name            Regional indicator  Ladder score  \\\n",
      "138  Congo (Kinshasa)            Sub-Saharan Africa         3.295   \n",
      "139      Sierra Leone            Sub-Saharan Africa         3.245   \n",
      "140           Lesotho            Sub-Saharan Africa         3.186   \n",
      "141           Lebanon  Middle East and North Africa         2.707   \n",
      "142       Afghanistan                    South Asia         1.721   \n",
      "\n",
      "     upperwhisker  lowerwhisker  Log GDP per capita  Social support  \\\n",
      "138         3.462         3.128               0.534           0.665   \n",
      "139         3.366         3.124               0.654           0.566   \n",
      "140         3.469         2.904               0.771           0.851   \n",
      "141         2.797         2.616               1.377           0.577   \n",
      "142         1.775         1.667               0.628           0.000   \n",
      "\n",
      "     Healthy life expectancy  Freedom to make life choices  Generosity  \\\n",
      "138                    0.262                         0.473       0.189   \n",
      "139                    0.253                         0.469       0.181   \n",
      "140                    0.000                         0.523       0.082   \n",
      "141                    0.556                         0.173       0.068   \n",
      "142                    0.242                         0.000       0.091   \n",
      "\n",
      "     Perceptions of corruption  Dystopia + residual  \n",
      "138                      0.072                1.102  \n",
      "139                      0.053                1.068  \n",
      "140                      0.085                0.875  \n",
      "141                      0.029               -0.073  \n",
      "142                      0.088                0.672  \n"
     ]
    }
   ],
   "source": [
    "print(df.tail())"
   ]
  },
  {
   "cell_type": "markdown",
   "id": "a471f015",
   "metadata": {},
   "source": [
    "Определенные столбцы"
   ]
  },
  {
   "cell_type": "code",
   "execution_count": 7,
   "id": "1133a002",
   "metadata": {},
   "outputs": [
    {
     "name": "stdout",
     "output_type": "stream",
     "text": [
      "         Country name            Regional indicator\n",
      "0             Finland                Western Europe\n",
      "1             Denmark                Western Europe\n",
      "2             Iceland                Western Europe\n",
      "3              Sweden                Western Europe\n",
      "4              Israel  Middle East and North Africa\n",
      "..                ...                           ...\n",
      "138  Congo (Kinshasa)            Sub-Saharan Africa\n",
      "139      Sierra Leone            Sub-Saharan Africa\n",
      "140           Lesotho            Sub-Saharan Africa\n",
      "141           Lebanon  Middle East and North Africa\n",
      "142       Afghanistan                    South Asia\n",
      "\n",
      "[143 rows x 2 columns]\n"
     ]
    }
   ],
   "source": [
    "print(df[['Country name', 'Regional indicator']])"
   ]
  },
  {
   "cell_type": "code",
   "execution_count": 8,
   "id": "c987dcee",
   "metadata": {},
   "outputs": [
    {
     "name": "stdout",
     "output_type": "stream",
     "text": [
      "Country name                                       Paraguay\n",
      "Regional indicator              Latin America and Caribbean\n",
      "Ladder score                                          5.977\n",
      "upperwhisker                                          6.085\n",
      "lowerwhisker                                          5.868\n",
      "Log GDP per capita                                    1.398\n",
      "Social support                                        1.408\n",
      "Healthy life expectancy                               0.549\n",
      "Freedom to make life choices                          0.788\n",
      "Generosity                                            0.131\n",
      "Perceptions of corruption                             0.065\n",
      "Dystopia + residual                                   1.637\n",
      "Name: 56, dtype: object\n"
     ]
    }
   ],
   "source": [
    "print(df.loc[56])"
   ]
  },
  {
   "cell_type": "markdown",
   "id": "187e6a9e",
   "metadata": {},
   "source": [
    "Содержимое определенного столбца в строке"
   ]
  },
  {
   "cell_type": "code",
   "execution_count": 9,
   "id": "374a54eb",
   "metadata": {},
   "outputs": [
    {
     "name": "stdout",
     "output_type": "stream",
     "text": [
      "0.549\n"
     ]
    }
   ],
   "source": [
    "print(df.loc[56, \"Healthy life expectancy\"])"
   ]
  },
  {
   "cell_type": "markdown",
   "id": "bfa9cd6e",
   "metadata": {},
   "source": [
    "Содержимое определенного столбца пор условию"
   ]
  },
  {
   "cell_type": "code",
   "execution_count": 10,
   "id": "fdc886f2",
   "metadata": {},
   "outputs": [
    {
     "name": "stdout",
     "output_type": "stream",
     "text": [
      "                 Country name            Regional indicator  Ladder score  \\\n",
      "2                     Iceland                Western Europe         7.525   \n",
      "3                      Sweden                Western Europe         7.344   \n",
      "4                      Israel  Middle East and North Africa         7.341   \n",
      "5                 Netherlands                Western Europe         7.319   \n",
      "6                      Norway                Western Europe         7.302   \n",
      "7                  Luxembourg                Western Europe         7.122   \n",
      "8                 Switzerland                Western Europe         7.060   \n",
      "14                     Canada         North America and ANZ         6.900   \n",
      "23                    Germany                Western Europe         6.719   \n",
      "26                     France                Western Europe         6.609   \n",
      "29                  Singapore                Southeast Asia         6.523   \n",
      "35                      Spain                Western Europe         6.421   \n",
      "39                      Malta                Western Europe         6.346   \n",
      "40                      Italy                Western Europe         6.324   \n",
      "49                     Cyprus                Western Europe         6.068   \n",
      "50                      Japan                     East Asia         6.060   \n",
      "51                South Korea                     East Asia         6.058   \n",
      "85  Hong Kong S.A.R. of China                     East Asia         5.316   \n",
      "\n",
      "    upperwhisker  lowerwhisker  Log GDP per capita  Social support  \\\n",
      "2          7.618         7.433               1.881           1.617   \n",
      "3          7.422         7.267               1.878           1.501   \n",
      "4          7.405         7.277               1.803           1.513   \n",
      "5          7.383         7.256               1.901           1.462   \n",
      "6          7.389         7.215               1.952           1.517   \n",
      "7          7.213         7.031               2.141           1.355   \n",
      "8          7.147         6.973               1.970           1.425   \n",
      "14         6.984         6.815               1.840           1.459   \n",
      "23         6.815         6.622               1.871           1.390   \n",
      "26         6.685         6.533               1.818           1.348   \n",
      "29         6.605         6.440               2.118           1.361   \n",
      "35         6.502         6.339               1.766           1.471   \n",
      "39         6.430         6.261               1.827           1.444   \n",
      "40         6.436         6.211               1.800           1.328   \n",
      "49         6.182         5.954               1.794           1.217   \n",
      "50         6.144         5.976               1.786           1.354   \n",
      "51         6.148         5.968               1.815           1.178   \n",
      "85         5.403         5.229               1.909           1.184   \n",
      "\n",
      "    Healthy life expectancy  Freedom to make life choices  Generosity  \\\n",
      "2                     0.718                         0.819       0.258   \n",
      "3                     0.724                         0.838       0.221   \n",
      "4                     0.740                         0.641       0.153   \n",
      "5                     0.706                         0.725       0.247   \n",
      "6                     0.704                         0.835       0.224   \n",
      "7                     0.708                         0.801       0.146   \n",
      "8                     0.747                         0.759       0.173   \n",
      "14                    0.701                         0.730       0.230   \n",
      "23                    0.702                         0.700       0.174   \n",
      "26                    0.727                         0.650       0.112   \n",
      "29                    0.769                         0.743       0.168   \n",
      "35                    0.729                         0.619       0.119   \n",
      "39                    0.707                         0.727       0.250   \n",
      "40                    0.720                         0.513       0.112   \n",
      "49                    0.744                         0.529       0.124   \n",
      "50                    0.785                         0.632       0.023   \n",
      "51                    0.770                         0.555       0.126   \n",
      "85                    0.857                         0.485       0.147   \n",
      "\n",
      "    Perceptions of corruption  Dystopia + residual  \n",
      "2                       0.182                2.050  \n",
      "3                       0.524                1.658  \n",
      "4                       0.193                2.298  \n",
      "5                       0.372                1.906  \n",
      "6                       0.484                1.586  \n",
      "7                       0.432                1.540  \n",
      "8                       0.498                1.488  \n",
      "14                      0.368                1.572  \n",
      "23                      0.368                1.513  \n",
      "26                      0.281                1.672  \n",
      "29                      0.575                0.788  \n",
      "35                      0.177                1.540  \n",
      "39                      0.125                1.267  \n",
      "40                      0.074                1.777  \n",
      "49                      0.049                1.611  \n",
      "50                      0.219                1.261  \n",
      "51                      0.158                1.456  \n",
      "85                      0.402                0.333  \n"
     ]
    }
   ],
   "source": [
    "print(df[df[\"Healthy life expectancy\"] > 0.7])"
   ]
  },
  {
   "cell_type": "markdown",
   "id": "6517870c",
   "metadata": {},
   "source": [
    "Модификация данных"
   ]
  },
  {
   "cell_type": "code",
   "execution_count": 11,
   "id": "fd5b17f1",
   "metadata": {},
   "outputs": [],
   "source": [
    "df = pd.read_csv(\"hh.csv\")"
   ]
  },
  {
   "cell_type": "markdown",
   "id": "51716305",
   "metadata": {},
   "source": [
    "Добавляем столбец"
   ]
  },
  {
   "cell_type": "code",
   "execution_count": 12,
   "id": "06633f40",
   "metadata": {},
   "outputs": [
    {
     "name": "stdout",
     "output_type": "stream",
     "text": [
      "                                    Название вакансии  \\\n",
      "0                             Программист-разработчик   \n",
      "1                                      Программист 1C   \n",
      "2                Программист 1С (Инженер-программист)   \n",
      "3                                      Программист C#   \n",
      "4                                      Программист 1С   \n",
      "5                                      Программист 1с   \n",
      "6                               Fullstack-разработчик   \n",
      "7                               Junior Game Developer   \n",
      "8                                      Программист 1С   \n",
      "9                                      Программист 1С   \n",
      "10                                Инженер-программист   \n",
      "11                      Frontend-разработчик (middle)   \n",
      "12                                     Программист 1С   \n",
      "13                                     Программист 1С   \n",
      "14                                Web-программист PHP   \n",
      "15                                     Программист 1C   \n",
      "16              Программист Backend .NET/ С# (Middle)   \n",
      "17                                     Программист 1C   \n",
      "18  Developer C# (WPF/Xamarin/Unity) в офис в Павл...   \n",
      "19                                     Программист 1С   \n",
      "20                             Разработчик С++ Junior   \n",
      "21                                Ведущий программист   \n",
      "22                             Ведущий программист 1C   \n",
      "23  Инженер-программист микроконтроллеров Embedded...   \n",
      "24  Программист: Модельно-ориентированное программ...   \n",
      "25                          Начинающий программист 1С   \n",
      "26                             Ведущий программист 1С   \n",
      "27                                 Разработчик Python   \n",
      "28                       PHP-разработчик (1С-Битрикс)   \n",
      "\n",
      "                                    название компании  \\\n",
      "0                                             2droida   \n",
      "1                                    АО Физтех-Энерго   \n",
      "2                                              СибГМУ   \n",
      "3                                          СТЕЛС, НПП   \n",
      "4                              ООО Центр дистрибьюции   \n",
      "5                                ООО ОЙЛТИМ, Компания   \n",
      "6                      ИП Сажин Александр Анатольевич   \n",
      "7                                           Siberteam   \n",
      "8                   Фабрика Мебельных Фасадов «Ирбис»   \n",
      "9                                 ООО МАГ Девелопмент   \n",
      "10                   АО Томский завод электроприводов   \n",
      "11                                ООО Стартекст Томск   \n",
      "12                     Головное подразделение Сибагро   \n",
      "13  Национальный исследовательский Томский политех...   \n",
      "14  Томский государственный педагогический универс...   \n",
      "15                                    ООО Аптека Вита   \n",
      "16                               Neo Stack Technology   \n",
      "17                                 ООО Томское молоко   \n",
      "18                                       ТОО FUNSCRUM   \n",
      "19                               Фабрика мебели Витра   \n",
      "20                                        ООО Интрайс   \n",
      "21                                         ИСЭ СО РАН   \n",
      "22                                    ООО Аптека Вита   \n",
      "23                                АО ПО Муроммашзавод   \n",
      "24                            ООО НПФ Мехатроника-Про   \n",
      "25                               Фабрика мебели Витра   \n",
      "26                               Фабрика мебели Витра   \n",
      "27                                       ООО Сапл-биз   \n",
      "28                                          Userstory   \n",
      "\n",
      "                          зарплата  \\\n",
      "0      220 000 – 300 000 ₽ на руки   \n",
      "1             до 130 000 ₽ на руки   \n",
      "2      120 000 – 120 000 ₽ на руки   \n",
      "3             от 150 000 ₽ на руки   \n",
      "4             от 180 000 ₽ на руки   \n",
      "5             от 100 000 ₽ на руки   \n",
      "6      100 000 – 140 000 ₽ на руки   \n",
      "7              до 60 000 ₽ на руки   \n",
      "8   от 120 000 ₽ до вычета налогов   \n",
      "9             от 200 000 ₽ на руки   \n",
      "10            от 120 000 ₽ на руки   \n",
      "11     120 000 – 150 000 ₽ на руки   \n",
      "12     138 000 – 175 000 ₽ на руки   \n",
      "13     100 000 – 100 000 ₽ на руки   \n",
      "14       40 000 – 80 000 ₽ на руки   \n",
      "15      75 000 – 130 000 ₽ на руки   \n",
      "16             от 80 000 ₽ на руки   \n",
      "17            от 160 000 ₽ на руки   \n",
      "18     150 000 – 450 000 ₸ на руки   \n",
      "19      97 000 – 175 000 ₽ на руки   \n",
      "20             от 50 000 ₽ на руки   \n",
      "21       60 000 – 60 000 ₽ на руки   \n",
      "22            от 120 000 ₽ на руки   \n",
      "23  до 120 000 ₽ до вычета налогов   \n",
      "24             от 90 000 ₽ на руки   \n",
      "25      82 000 – 150 000 ₽ на руки   \n",
      "26     110 000 – 200 000 ₽ на руки   \n",
      "27      80 000 – 130 000 ₽ на руки   \n",
      "28            от 150 000 ₽ на руки   \n",
      "\n",
      "                                   ссылка на вакансию  Test  \n",
      "0   https://tomsk.hh.ru/vacancy/98934452?query=%D0...     0  \n",
      "1   https://tomsk.hh.ru/vacancy/98289455?query=%D0...     1  \n",
      "2   https://tomsk.hh.ru/vacancy/83379924?query=%D0...     2  \n",
      "3   https://tomsk.hh.ru/vacancy/95391104?query=%D0...     3  \n",
      "4   https://tomsk.hh.ru/vacancy/94270509?query=%D0...     4  \n",
      "5   https://tomsk.hh.ru/vacancy/95114599?query=%D0...     5  \n",
      "6   https://tomsk.hh.ru/vacancy/98384915?query=%D0...     6  \n",
      "7   https://tomsk.hh.ru/vacancy/98932408?query=%D0...     7  \n",
      "8   https://tomsk.hh.ru/vacancy/95874190?query=%D0...     8  \n",
      "9   https://tomsk.hh.ru/vacancy/98185743?query=%D0...     9  \n",
      "10  https://tomsk.hh.ru/vacancy/94332910?query=%D0...    10  \n",
      "11  https://tomsk.hh.ru/vacancy/98779213?query=%D0...    11  \n",
      "12  https://tomsk.hh.ru/vacancy/92129406?query=%D0...    12  \n",
      "13  https://tomsk.hh.ru/vacancy/97100558?query=%D0...    13  \n",
      "14  https://tomsk.hh.ru/vacancy/98762623?query=%D0...    14  \n",
      "15  https://tomsk.hh.ru/vacancy/95018292?query=%D0...    15  \n",
      "16  https://tomsk.hh.ru/vacancy/98879540?query=%D0...    16  \n",
      "17  https://tomsk.hh.ru/vacancy/92237280?query=%D0...    17  \n",
      "18  https://tomsk.hh.ru/vacancy/97082731?query=%D0...    18  \n",
      "19  https://tomsk.hh.ru/vacancy/97335400?query=%D0...    19  \n",
      "20  https://tomsk.hh.ru/vacancy/91077586?query=%D0...    20  \n",
      "21  https://tomsk.hh.ru/vacancy/99037220?query=%D0...    21  \n",
      "22  https://tomsk.hh.ru/vacancy/91130705?query=%D0...    22  \n",
      "23  https://tomsk.hh.ru/vacancy/97196550?query=%D0...    23  \n",
      "24  https://tomsk.hh.ru/vacancy/98721994?query=%D0...    24  \n",
      "25  https://tomsk.hh.ru/vacancy/91881686?query=%D0...    25  \n",
      "26  https://tomsk.hh.ru/vacancy/97335890?query=%D0...    26  \n",
      "27  https://tomsk.hh.ru/vacancy/98791730?query=%D0...    27  \n",
      "28  https://tomsk.hh.ru/vacancy/95627492?query=%D0...    28  \n"
     ]
    }
   ],
   "source": [
    "df['Test'] = [new for new in range(29)]\n",
    "\n",
    "print(df)"
   ]
  },
  {
   "cell_type": "markdown",
   "id": "abf72151",
   "metadata": {},
   "source": [
    "Удаляем"
   ]
  },
  {
   "cell_type": "code",
   "execution_count": 13,
   "id": "8506c564",
   "metadata": {},
   "outputs": [
    {
     "name": "stdout",
     "output_type": "stream",
     "text": [
      "                                    Название вакансии  \\\n",
      "0                             Программист-разработчик   \n",
      "1                                      Программист 1C   \n",
      "2                Программист 1С (Инженер-программист)   \n",
      "3                                      Программист C#   \n",
      "4                                      Программист 1С   \n",
      "5                                      Программист 1с   \n",
      "6                               Fullstack-разработчик   \n",
      "7                               Junior Game Developer   \n",
      "8                                      Программист 1С   \n",
      "9                                      Программист 1С   \n",
      "10                                Инженер-программист   \n",
      "11                      Frontend-разработчик (middle)   \n",
      "12                                     Программист 1С   \n",
      "13                                     Программист 1С   \n",
      "14                                Web-программист PHP   \n",
      "15                                     Программист 1C   \n",
      "16              Программист Backend .NET/ С# (Middle)   \n",
      "17                                     Программист 1C   \n",
      "18  Developer C# (WPF/Xamarin/Unity) в офис в Павл...   \n",
      "19                                     Программист 1С   \n",
      "20                             Разработчик С++ Junior   \n",
      "21                                Ведущий программист   \n",
      "22                             Ведущий программист 1C   \n",
      "23  Инженер-программист микроконтроллеров Embedded...   \n",
      "24  Программист: Модельно-ориентированное программ...   \n",
      "25                          Начинающий программист 1С   \n",
      "26                             Ведущий программист 1С   \n",
      "27                                 Разработчик Python   \n",
      "28                       PHP-разработчик (1С-Битрикс)   \n",
      "\n",
      "                                    название компании  \\\n",
      "0                                             2droida   \n",
      "1                                    АО Физтех-Энерго   \n",
      "2                                              СибГМУ   \n",
      "3                                          СТЕЛС, НПП   \n",
      "4                              ООО Центр дистрибьюции   \n",
      "5                                ООО ОЙЛТИМ, Компания   \n",
      "6                      ИП Сажин Александр Анатольевич   \n",
      "7                                           Siberteam   \n",
      "8                   Фабрика Мебельных Фасадов «Ирбис»   \n",
      "9                                 ООО МАГ Девелопмент   \n",
      "10                   АО Томский завод электроприводов   \n",
      "11                                ООО Стартекст Томск   \n",
      "12                     Головное подразделение Сибагро   \n",
      "13  Национальный исследовательский Томский политех...   \n",
      "14  Томский государственный педагогический универс...   \n",
      "15                                    ООО Аптека Вита   \n",
      "16                               Neo Stack Technology   \n",
      "17                                 ООО Томское молоко   \n",
      "18                                       ТОО FUNSCRUM   \n",
      "19                               Фабрика мебели Витра   \n",
      "20                                        ООО Интрайс   \n",
      "21                                         ИСЭ СО РАН   \n",
      "22                                    ООО Аптека Вита   \n",
      "23                                АО ПО Муроммашзавод   \n",
      "24                            ООО НПФ Мехатроника-Про   \n",
      "25                               Фабрика мебели Витра   \n",
      "26                               Фабрика мебели Витра   \n",
      "27                                       ООО Сапл-биз   \n",
      "28                                          Userstory   \n",
      "\n",
      "                          зарплата  \\\n",
      "0      220 000 – 300 000 ₽ на руки   \n",
      "1             до 130 000 ₽ на руки   \n",
      "2      120 000 – 120 000 ₽ на руки   \n",
      "3             от 150 000 ₽ на руки   \n",
      "4             от 180 000 ₽ на руки   \n",
      "5             от 100 000 ₽ на руки   \n",
      "6      100 000 – 140 000 ₽ на руки   \n",
      "7              до 60 000 ₽ на руки   \n",
      "8   от 120 000 ₽ до вычета налогов   \n",
      "9             от 200 000 ₽ на руки   \n",
      "10            от 120 000 ₽ на руки   \n",
      "11     120 000 – 150 000 ₽ на руки   \n",
      "12     138 000 – 175 000 ₽ на руки   \n",
      "13     100 000 – 100 000 ₽ на руки   \n",
      "14       40 000 – 80 000 ₽ на руки   \n",
      "15      75 000 – 130 000 ₽ на руки   \n",
      "16             от 80 000 ₽ на руки   \n",
      "17            от 160 000 ₽ на руки   \n",
      "18     150 000 – 450 000 ₸ на руки   \n",
      "19      97 000 – 175 000 ₽ на руки   \n",
      "20             от 50 000 ₽ на руки   \n",
      "21       60 000 – 60 000 ₽ на руки   \n",
      "22            от 120 000 ₽ на руки   \n",
      "23  до 120 000 ₽ до вычета налогов   \n",
      "24             от 90 000 ₽ на руки   \n",
      "25      82 000 – 150 000 ₽ на руки   \n",
      "26     110 000 – 200 000 ₽ на руки   \n",
      "27      80 000 – 130 000 ₽ на руки   \n",
      "28            от 150 000 ₽ на руки   \n",
      "\n",
      "                                   ссылка на вакансию  \n",
      "0   https://tomsk.hh.ru/vacancy/98934452?query=%D0...  \n",
      "1   https://tomsk.hh.ru/vacancy/98289455?query=%D0...  \n",
      "2   https://tomsk.hh.ru/vacancy/83379924?query=%D0...  \n",
      "3   https://tomsk.hh.ru/vacancy/95391104?query=%D0...  \n",
      "4   https://tomsk.hh.ru/vacancy/94270509?query=%D0...  \n",
      "5   https://tomsk.hh.ru/vacancy/95114599?query=%D0...  \n",
      "6   https://tomsk.hh.ru/vacancy/98384915?query=%D0...  \n",
      "7   https://tomsk.hh.ru/vacancy/98932408?query=%D0...  \n",
      "8   https://tomsk.hh.ru/vacancy/95874190?query=%D0...  \n",
      "9   https://tomsk.hh.ru/vacancy/98185743?query=%D0...  \n",
      "10  https://tomsk.hh.ru/vacancy/94332910?query=%D0...  \n",
      "11  https://tomsk.hh.ru/vacancy/98779213?query=%D0...  \n",
      "12  https://tomsk.hh.ru/vacancy/92129406?query=%D0...  \n",
      "13  https://tomsk.hh.ru/vacancy/97100558?query=%D0...  \n",
      "14  https://tomsk.hh.ru/vacancy/98762623?query=%D0...  \n",
      "15  https://tomsk.hh.ru/vacancy/95018292?query=%D0...  \n",
      "16  https://tomsk.hh.ru/vacancy/98879540?query=%D0...  \n",
      "17  https://tomsk.hh.ru/vacancy/92237280?query=%D0...  \n",
      "18  https://tomsk.hh.ru/vacancy/97082731?query=%D0...  \n",
      "19  https://tomsk.hh.ru/vacancy/97335400?query=%D0...  \n",
      "20  https://tomsk.hh.ru/vacancy/91077586?query=%D0...  \n",
      "21  https://tomsk.hh.ru/vacancy/99037220?query=%D0...  \n",
      "22  https://tomsk.hh.ru/vacancy/91130705?query=%D0...  \n",
      "23  https://tomsk.hh.ru/vacancy/97196550?query=%D0...  \n",
      "24  https://tomsk.hh.ru/vacancy/98721994?query=%D0...  \n",
      "25  https://tomsk.hh.ru/vacancy/91881686?query=%D0...  \n",
      "26  https://tomsk.hh.ru/vacancy/97335890?query=%D0...  \n",
      "27  https://tomsk.hh.ru/vacancy/98791730?query=%D0...  \n",
      "28  https://tomsk.hh.ru/vacancy/95627492?query=%D0...  \n"
     ]
    }
   ],
   "source": [
    "df.drop('Test', axis=1, inplace=True)\n",
    "\n",
    "print(df)"
   ]
  },
  {
   "cell_type": "code",
   "execution_count": 14,
   "id": "21165b5f",
   "metadata": {},
   "outputs": [
    {
     "name": "stdout",
     "output_type": "stream",
     "text": [
      "                                    Название вакансии  \\\n",
      "0                             Программист-разработчик   \n",
      "1                                      Программист 1C   \n",
      "2                Программист 1С (Инженер-программист)   \n",
      "3                                      Программист C#   \n",
      "4                                      Программист 1С   \n",
      "5                                      Программист 1с   \n",
      "6                               Fullstack-разработчик   \n",
      "7                               Junior Game Developer   \n",
      "8                                      Программист 1С   \n",
      "9                                      Программист 1С   \n",
      "10                                Инженер-программист   \n",
      "11                      Frontend-разработчик (middle)   \n",
      "12                                     Программист 1С   \n",
      "13                                     Программист 1С   \n",
      "14                                Web-программист PHP   \n",
      "15                                     Программист 1C   \n",
      "16              Программист Backend .NET/ С# (Middle)   \n",
      "17                                     Программист 1C   \n",
      "18  Developer C# (WPF/Xamarin/Unity) в офис в Павл...   \n",
      "19                                     Программист 1С   \n",
      "20                             Разработчик С++ Junior   \n",
      "21                                Ведущий программист   \n",
      "22                             Ведущий программист 1C   \n",
      "23  Инженер-программист микроконтроллеров Embedded...   \n",
      "24  Программист: Модельно-ориентированное программ...   \n",
      "25                          Начинающий программист 1С   \n",
      "26                             Ведущий программист 1С   \n",
      "27                                 Разработчик Python   \n",
      "28                       PHP-разработчик (1С-Битрикс)   \n",
      "\n",
      "                                    название компании  \\\n",
      "0                                             2droida   \n",
      "1                                    АО Физтех-Энерго   \n",
      "2                                              СибГМУ   \n",
      "3                                          СТЕЛС, НПП   \n",
      "4                              ООО Центр дистрибьюции   \n",
      "5                                ООО ОЙЛТИМ, Компания   \n",
      "6                      ИП Сажин Александр Анатольевич   \n",
      "7                                           Siberteam   \n",
      "8                   Фабрика Мебельных Фасадов «Ирбис»   \n",
      "9                                 ООО МАГ Девелопмент   \n",
      "10                   АО Томский завод электроприводов   \n",
      "11                                ООО Стартекст Томск   \n",
      "12                     Головное подразделение Сибагро   \n",
      "13  Национальный исследовательский Томский политех...   \n",
      "14  Томский государственный педагогический универс...   \n",
      "15                                    ООО Аптека Вита   \n",
      "16                               Neo Stack Technology   \n",
      "17                                 ООО Томское молоко   \n",
      "18                                       ТОО FUNSCRUM   \n",
      "19                               Фабрика мебели Витра   \n",
      "20                                        ООО Интрайс   \n",
      "21                                         ИСЭ СО РАН   \n",
      "22                                    ООО Аптека Вита   \n",
      "23                                АО ПО Муроммашзавод   \n",
      "24                            ООО НПФ Мехатроника-Про   \n",
      "25                               Фабрика мебели Витра   \n",
      "26                               Фабрика мебели Витра   \n",
      "27                                       ООО Сапл-биз   \n",
      "28                                          Userstory   \n",
      "\n",
      "                          зарплата  \\\n",
      "0      220 000 – 300 000 ₽ на руки   \n",
      "1             до 130 000 ₽ на руки   \n",
      "2      120 000 – 120 000 ₽ на руки   \n",
      "3             от 150 000 ₽ на руки   \n",
      "4             от 180 000 ₽ на руки   \n",
      "5             от 100 000 ₽ на руки   \n",
      "6      100 000 – 140 000 ₽ на руки   \n",
      "7              до 60 000 ₽ на руки   \n",
      "8   от 120 000 ₽ до вычета налогов   \n",
      "9             от 200 000 ₽ на руки   \n",
      "10            от 120 000 ₽ на руки   \n",
      "11     120 000 – 150 000 ₽ на руки   \n",
      "12     138 000 – 175 000 ₽ на руки   \n",
      "13     100 000 – 100 000 ₽ на руки   \n",
      "14       40 000 – 80 000 ₽ на руки   \n",
      "15      75 000 – 130 000 ₽ на руки   \n",
      "16             от 80 000 ₽ на руки   \n",
      "17            от 160 000 ₽ на руки   \n",
      "18     150 000 – 450 000 ₸ на руки   \n",
      "19      97 000 – 175 000 ₽ на руки   \n",
      "20             от 50 000 ₽ на руки   \n",
      "21       60 000 – 60 000 ₽ на руки   \n",
      "22            от 120 000 ₽ на руки   \n",
      "23  до 120 000 ₽ до вычета налогов   \n",
      "24             от 90 000 ₽ на руки   \n",
      "25      82 000 – 150 000 ₽ на руки   \n",
      "26     110 000 – 200 000 ₽ на руки   \n",
      "27      80 000 – 130 000 ₽ на руки   \n",
      "28            от 150 000 ₽ на руки   \n",
      "\n",
      "                                   ссылка на вакансию  \n",
      "0   https://tomsk.hh.ru/vacancy/98934452?query=%D0...  \n",
      "1   https://tomsk.hh.ru/vacancy/98289455?query=%D0...  \n",
      "2   https://tomsk.hh.ru/vacancy/83379924?query=%D0...  \n",
      "3   https://tomsk.hh.ru/vacancy/95391104?query=%D0...  \n",
      "4   https://tomsk.hh.ru/vacancy/94270509?query=%D0...  \n",
      "5   https://tomsk.hh.ru/vacancy/95114599?query=%D0...  \n",
      "6   https://tomsk.hh.ru/vacancy/98384915?query=%D0...  \n",
      "7   https://tomsk.hh.ru/vacancy/98932408?query=%D0...  \n",
      "8   https://tomsk.hh.ru/vacancy/95874190?query=%D0...  \n",
      "9   https://tomsk.hh.ru/vacancy/98185743?query=%D0...  \n",
      "10  https://tomsk.hh.ru/vacancy/94332910?query=%D0...  \n",
      "11  https://tomsk.hh.ru/vacancy/98779213?query=%D0...  \n",
      "12  https://tomsk.hh.ru/vacancy/92129406?query=%D0...  \n",
      "13  https://tomsk.hh.ru/vacancy/97100558?query=%D0...  \n",
      "14  https://tomsk.hh.ru/vacancy/98762623?query=%D0...  \n",
      "15  https://tomsk.hh.ru/vacancy/95018292?query=%D0...  \n",
      "16  https://tomsk.hh.ru/vacancy/98879540?query=%D0...  \n",
      "17  https://tomsk.hh.ru/vacancy/92237280?query=%D0...  \n",
      "18  https://tomsk.hh.ru/vacancy/97082731?query=%D0...  \n",
      "19  https://tomsk.hh.ru/vacancy/97335400?query=%D0...  \n",
      "20  https://tomsk.hh.ru/vacancy/91077586?query=%D0...  \n",
      "21  https://tomsk.hh.ru/vacancy/99037220?query=%D0...  \n",
      "22  https://tomsk.hh.ru/vacancy/91130705?query=%D0...  \n",
      "23  https://tomsk.hh.ru/vacancy/97196550?query=%D0...  \n",
      "24  https://tomsk.hh.ru/vacancy/98721994?query=%D0...  \n",
      "25  https://tomsk.hh.ru/vacancy/91881686?query=%D0...  \n",
      "26  https://tomsk.hh.ru/vacancy/97335890?query=%D0...  \n",
      "27  https://tomsk.hh.ru/vacancy/98791730?query=%D0...  \n",
      "28  https://tomsk.hh.ru/vacancy/95627492?query=%D0...  \n"
     ]
    }
   ],
   "source": [
    "df.drop(28, axis=0)\n",
    "\n",
    "print(df)"
   ]
  },
  {
   "cell_type": "markdown",
   "id": "d0b80f32",
   "metadata": {},
   "source": [
    "Анализ"
   ]
  },
  {
   "cell_type": "code",
   "execution_count": 15,
   "id": "ae3e5abc",
   "metadata": {},
   "outputs": [
    {
     "name": "stdout",
     "output_type": "stream",
     "text": [
      "   Животное  Средняя продолжительность жизни  Популярность               Пища\n",
      "0    Собака                               12          28.4               Мясо\n",
      "1     Кошка                               15           NaN               Мясо\n",
      "2      Рыба                                5          10.4  Растительный корм\n",
      "3     Птица                               40           7.1  Растительный корм\n",
      "4    Кролик                                5           2.4  Растительный корм\n",
      "5    Лошадь                               27           NaN  Растительный корм\n",
      "6     Хомяк                                2           0.7  Растительный корм\n",
      "7  Черепаха                              150           0.5  Растительный корм\n",
      "8  Шиншилла                               10           0.1  Растительный корм\n"
     ]
    }
   ],
   "source": [
    "df = pd.read_csv(\"animal.csv\")\n",
    "\n",
    "print(df)"
   ]
  },
  {
   "cell_type": "code",
   "execution_count": 16,
   "id": "7136ef29",
   "metadata": {},
   "outputs": [
    {
     "name": "stdout",
     "output_type": "stream",
     "text": [
      "<class 'pandas.core.frame.DataFrame'>\n",
      "RangeIndex: 9 entries, 0 to 8\n",
      "Data columns (total 4 columns):\n",
      " #   Column                           Non-Null Count  Dtype  \n",
      "---  ------                           --------------  -----  \n",
      " 0   Животное                         9 non-null      object \n",
      " 1   Средняя продолжительность жизни  9 non-null      int64  \n",
      " 2   Популярность                     7 non-null      float64\n",
      " 3   Пища                             9 non-null      object \n",
      "dtypes: float64(1), int64(1), object(2)\n",
      "memory usage: 416.0+ bytes\n"
     ]
    }
   ],
   "source": [
    "df.info()"
   ]
  },
  {
   "cell_type": "markdown",
   "id": "0949dd8a",
   "metadata": {},
   "source": [
    "Заменяем NaN"
   ]
  },
  {
   "cell_type": "code",
   "execution_count": 17,
   "id": "53d16629",
   "metadata": {},
   "outputs": [
    {
     "name": "stdout",
     "output_type": "stream",
     "text": [
      "   Животное  Средняя продолжительность жизни  Популярность               Пища\n",
      "0    Собака                               12          28.4               Мясо\n",
      "1     Кошка                               15           0.0               Мясо\n",
      "2      Рыба                                5          10.4  Растительный корм\n",
      "3     Птица                               40           7.1  Растительный корм\n",
      "4    Кролик                                5           2.4  Растительный корм\n",
      "5    Лошадь                               27           0.0  Растительный корм\n",
      "6     Хомяк                                2           0.7  Растительный корм\n",
      "7  Черепаха                              150           0.5  Растительный корм\n",
      "8  Шиншилла                               10           0.1  Растительный корм\n"
     ]
    }
   ],
   "source": [
    "df.fillna(0, inplace=True)\n",
    "\n",
    "print(df)"
   ]
  },
  {
   "cell_type": "markdown",
   "id": "6febd150",
   "metadata": {},
   "source": [
    "Удаляем NaN"
   ]
  },
  {
   "cell_type": "code",
   "execution_count": 18,
   "id": "9240e3bd",
   "metadata": {},
   "outputs": [
    {
     "name": "stdout",
     "output_type": "stream",
     "text": [
      "   Животное  Средняя продолжительность жизни  Популярность               Пища\n",
      "0    Собака                               12          28.4               Мясо\n",
      "1     Кошка                               15           0.0               Мясо\n",
      "2      Рыба                                5          10.4  Растительный корм\n",
      "3     Птица                               40           7.1  Растительный корм\n",
      "4    Кролик                                5           2.4  Растительный корм\n",
      "5    Лошадь                               27           0.0  Растительный корм\n",
      "6     Хомяк                                2           0.7  Растительный корм\n",
      "7  Черепаха                              150           0.5  Растительный корм\n",
      "8  Шиншилла                               10           0.1  Растительный корм\n"
     ]
    }
   ],
   "source": [
    "df.dropna(inplace=True)\n",
    "\n",
    "print(df)"
   ]
  },
  {
   "cell_type": "markdown",
   "id": "d3333026",
   "metadata": {},
   "source": [
    "Группировка"
   ]
  },
  {
   "cell_type": "code",
   "execution_count": 19,
   "id": "697daf31",
   "metadata": {},
   "outputs": [
    {
     "name": "stdout",
     "output_type": "stream",
     "text": [
      "Пища\n",
      "Мясо                 13.500000\n",
      "Растительный корм    34.142857\n",
      "Name: Средняя продолжительность жизни, dtype: float64\n"
     ]
    }
   ],
   "source": [
    "group = df.groupby('Пища')[\"Средняя продолжительность жизни\"].mean()\n",
    "\n",
    "print(group)"
   ]
  },
  {
   "cell_type": "markdown",
   "id": "b9d32db0",
   "metadata": {},
   "source": [
    "Сохранение результатов"
   ]
  },
  {
   "cell_type": "code",
   "execution_count": 20,
   "id": "977e7d3c",
   "metadata": {},
   "outputs": [],
   "source": [
    "df.to_csv(\"output.csv\", index=False)"
   ]
  },
  {
   "cell_type": "markdown",
   "id": "08726ba2",
   "metadata": {},
   "source": [
    "### Эксперименты и домашка"
   ]
  },
  {
   "cell_type": "markdown",
   "id": "970c5e4e",
   "metadata": {},
   "source": [
    "#### Титаник"
   ]
  },
  {
   "cell_type": "code",
   "execution_count": 21,
   "id": "0c74212a",
   "metadata": {},
   "outputs": [
    {
     "data": {
      "text/html": [
       "<div>\n",
       "<style scoped>\n",
       "    .dataframe tbody tr th:only-of-type {\n",
       "        vertical-align: middle;\n",
       "    }\n",
       "\n",
       "    .dataframe tbody tr th {\n",
       "        vertical-align: top;\n",
       "    }\n",
       "\n",
       "    .dataframe thead th {\n",
       "        text-align: right;\n",
       "    }\n",
       "</style>\n",
       "<table border=\"1\" class=\"dataframe\">\n",
       "  <thead>\n",
       "    <tr style=\"text-align: right;\">\n",
       "      <th></th>\n",
       "      <th>PassengerID</th>\n",
       "      <th>Name</th>\n",
       "      <th>PClass</th>\n",
       "      <th>Age</th>\n",
       "      <th>Sex</th>\n",
       "      <th>Survived</th>\n",
       "      <th>SexCode</th>\n",
       "    </tr>\n",
       "  </thead>\n",
       "  <tbody>\n",
       "    <tr>\n",
       "      <th>0</th>\n",
       "      <td>1</td>\n",
       "      <td>Allen, Miss Elisabeth Walton</td>\n",
       "      <td>1st</td>\n",
       "      <td>29.00</td>\n",
       "      <td>female</td>\n",
       "      <td>1</td>\n",
       "      <td>1</td>\n",
       "    </tr>\n",
       "    <tr>\n",
       "      <th>1</th>\n",
       "      <td>2</td>\n",
       "      <td>Allison, Miss Helen Loraine</td>\n",
       "      <td>1st</td>\n",
       "      <td>2.00</td>\n",
       "      <td>female</td>\n",
       "      <td>0</td>\n",
       "      <td>1</td>\n",
       "    </tr>\n",
       "    <tr>\n",
       "      <th>2</th>\n",
       "      <td>3</td>\n",
       "      <td>Allison, Mr Hudson Joshua Creighton</td>\n",
       "      <td>1st</td>\n",
       "      <td>30.00</td>\n",
       "      <td>male</td>\n",
       "      <td>0</td>\n",
       "      <td>0</td>\n",
       "    </tr>\n",
       "    <tr>\n",
       "      <th>3</th>\n",
       "      <td>4</td>\n",
       "      <td>Allison, Mrs Hudson JC (Bessie Waldo Daniels)</td>\n",
       "      <td>1st</td>\n",
       "      <td>25.00</td>\n",
       "      <td>female</td>\n",
       "      <td>0</td>\n",
       "      <td>1</td>\n",
       "    </tr>\n",
       "    <tr>\n",
       "      <th>4</th>\n",
       "      <td>5</td>\n",
       "      <td>Allison, Master Hudson Trevor</td>\n",
       "      <td>1st</td>\n",
       "      <td>0.92</td>\n",
       "      <td>male</td>\n",
       "      <td>1</td>\n",
       "      <td>0</td>\n",
       "    </tr>\n",
       "  </tbody>\n",
       "</table>\n",
       "</div>"
      ],
      "text/plain": [
       "   PassengerID                                           Name PClass    Age  \\\n",
       "0            1                   Allen, Miss Elisabeth Walton    1st  29.00   \n",
       "1            2                    Allison, Miss Helen Loraine    1st   2.00   \n",
       "2            3            Allison, Mr Hudson Joshua Creighton    1st  30.00   \n",
       "3            4  Allison, Mrs Hudson JC (Bessie Waldo Daniels)    1st  25.00   \n",
       "4            5                  Allison, Master Hudson Trevor    1st   0.92   \n",
       "\n",
       "      Sex  Survived  SexCode  \n",
       "0  female         1        1  \n",
       "1  female         0        1  \n",
       "2    male         0        0  \n",
       "3  female         0        1  \n",
       "4    male         1        0  "
      ]
     },
     "execution_count": 21,
     "metadata": {},
     "output_type": "execute_result"
    }
   ],
   "source": [
    "titanic_df = pd.read_csv(\"titanic.csv\")\n",
    "\n",
    "titanic_df.head()"
   ]
  },
  {
   "cell_type": "code",
   "execution_count": 22,
   "id": "d0bc440b",
   "metadata": {},
   "outputs": [
    {
     "name": "stdout",
     "output_type": "stream",
     "text": [
      "<class 'pandas.core.frame.DataFrame'>\n",
      "RangeIndex: 1313 entries, 0 to 1312\n",
      "Data columns (total 7 columns):\n",
      " #   Column       Non-Null Count  Dtype  \n",
      "---  ------       --------------  -----  \n",
      " 0   PassengerID  1313 non-null   int64  \n",
      " 1   Name         1313 non-null   object \n",
      " 2   PClass       1313 non-null   object \n",
      " 3   Age          756 non-null    float64\n",
      " 4   Sex          1313 non-null   object \n",
      " 5   Survived     1313 non-null   int64  \n",
      " 6   SexCode      1313 non-null   int64  \n",
      "dtypes: float64(1), int64(3), object(3)\n",
      "memory usage: 71.9+ KB\n"
     ]
    }
   ],
   "source": [
    "titanic_df.info()"
   ]
  },
  {
   "cell_type": "code",
   "execution_count": 23,
   "id": "0a07e272",
   "metadata": {},
   "outputs": [
    {
     "data": {
      "text/html": [
       "<div>\n",
       "<style scoped>\n",
       "    .dataframe tbody tr th:only-of-type {\n",
       "        vertical-align: middle;\n",
       "    }\n",
       "\n",
       "    .dataframe tbody tr th {\n",
       "        vertical-align: top;\n",
       "    }\n",
       "\n",
       "    .dataframe thead th {\n",
       "        text-align: right;\n",
       "    }\n",
       "</style>\n",
       "<table border=\"1\" class=\"dataframe\">\n",
       "  <thead>\n",
       "    <tr style=\"text-align: right;\">\n",
       "      <th></th>\n",
       "      <th>PassengerID</th>\n",
       "      <th>Age</th>\n",
       "      <th>Survived</th>\n",
       "      <th>SexCode</th>\n",
       "    </tr>\n",
       "  </thead>\n",
       "  <tbody>\n",
       "    <tr>\n",
       "      <th>count</th>\n",
       "      <td>1313.000000</td>\n",
       "      <td>756.000000</td>\n",
       "      <td>1313.000000</td>\n",
       "      <td>1313.000000</td>\n",
       "    </tr>\n",
       "    <tr>\n",
       "      <th>mean</th>\n",
       "      <td>657.000000</td>\n",
       "      <td>30.397989</td>\n",
       "      <td>0.342727</td>\n",
       "      <td>0.351866</td>\n",
       "    </tr>\n",
       "    <tr>\n",
       "      <th>std</th>\n",
       "      <td>379.174762</td>\n",
       "      <td>14.259049</td>\n",
       "      <td>0.474802</td>\n",
       "      <td>0.477734</td>\n",
       "    </tr>\n",
       "    <tr>\n",
       "      <th>min</th>\n",
       "      <td>1.000000</td>\n",
       "      <td>0.170000</td>\n",
       "      <td>0.000000</td>\n",
       "      <td>0.000000</td>\n",
       "    </tr>\n",
       "    <tr>\n",
       "      <th>25%</th>\n",
       "      <td>329.000000</td>\n",
       "      <td>21.000000</td>\n",
       "      <td>0.000000</td>\n",
       "      <td>0.000000</td>\n",
       "    </tr>\n",
       "    <tr>\n",
       "      <th>50%</th>\n",
       "      <td>657.000000</td>\n",
       "      <td>28.000000</td>\n",
       "      <td>0.000000</td>\n",
       "      <td>0.000000</td>\n",
       "    </tr>\n",
       "    <tr>\n",
       "      <th>75%</th>\n",
       "      <td>985.000000</td>\n",
       "      <td>39.000000</td>\n",
       "      <td>1.000000</td>\n",
       "      <td>1.000000</td>\n",
       "    </tr>\n",
       "    <tr>\n",
       "      <th>max</th>\n",
       "      <td>1313.000000</td>\n",
       "      <td>71.000000</td>\n",
       "      <td>1.000000</td>\n",
       "      <td>1.000000</td>\n",
       "    </tr>\n",
       "  </tbody>\n",
       "</table>\n",
       "</div>"
      ],
      "text/plain": [
       "       PassengerID         Age     Survived      SexCode\n",
       "count  1313.000000  756.000000  1313.000000  1313.000000\n",
       "mean    657.000000   30.397989     0.342727     0.351866\n",
       "std     379.174762   14.259049     0.474802     0.477734\n",
       "min       1.000000    0.170000     0.000000     0.000000\n",
       "25%     329.000000   21.000000     0.000000     0.000000\n",
       "50%     657.000000   28.000000     0.000000     0.000000\n",
       "75%     985.000000   39.000000     1.000000     1.000000\n",
       "max    1313.000000   71.000000     1.000000     1.000000"
      ]
     },
     "execution_count": 23,
     "metadata": {},
     "output_type": "execute_result"
    }
   ],
   "source": [
    "titanic_df.describe()"
   ]
  },
  {
   "cell_type": "markdown",
   "id": "b3f4f9ac",
   "metadata": {},
   "source": [
    "Сколько выжило в контексте мужчин и женщин"
   ]
  },
  {
   "cell_type": "code",
   "execution_count": 24,
   "id": "96862195",
   "metadata": {},
   "outputs": [
    {
     "name": "stdout",
     "output_type": "stream",
     "text": [
      "Sex     Survived\n",
      "female  0           154\n",
      "        1           308\n",
      "male    0           709\n",
      "        1           142\n",
      "Name: PassengerID, dtype: int64\n"
     ]
    }
   ],
   "source": [
    "print(titanic_df.groupby(['Sex', 'Survived'])['PassengerID'].count())"
   ]
  },
  {
   "cell_type": "markdown",
   "id": "efbe6b69",
   "metadata": {},
   "source": [
    "#### Зарплата"
   ]
  },
  {
   "cell_type": "code",
   "execution_count": 25,
   "id": "afe42a73",
   "metadata": {},
   "outputs": [
    {
     "data": {
      "text/html": [
       "<div>\n",
       "<style scoped>\n",
       "    .dataframe tbody tr th:only-of-type {\n",
       "        vertical-align: middle;\n",
       "    }\n",
       "\n",
       "    .dataframe tbody tr th {\n",
       "        vertical-align: top;\n",
       "    }\n",
       "\n",
       "    .dataframe thead th {\n",
       "        text-align: right;\n",
       "    }\n",
       "</style>\n",
       "<table border=\"1\" class=\"dataframe\">\n",
       "  <thead>\n",
       "    <tr style=\"text-align: right;\">\n",
       "      <th></th>\n",
       "      <th>Name</th>\n",
       "      <th>City</th>\n",
       "      <th>Salary</th>\n",
       "    </tr>\n",
       "  </thead>\n",
       "  <tbody>\n",
       "    <tr>\n",
       "      <th>0</th>\n",
       "      <td>Аня</td>\n",
       "      <td>Томск</td>\n",
       "      <td>200000.0</td>\n",
       "    </tr>\n",
       "    <tr>\n",
       "      <th>1</th>\n",
       "      <td>Боб</td>\n",
       "      <td>Москва</td>\n",
       "      <td>350000.0</td>\n",
       "    </tr>\n",
       "    <tr>\n",
       "      <th>2</th>\n",
       "      <td>Чарли</td>\n",
       "      <td>Москва</td>\n",
       "      <td>270000.0</td>\n",
       "    </tr>\n",
       "    <tr>\n",
       "      <th>3</th>\n",
       "      <td>Лиза</td>\n",
       "      <td>Томск</td>\n",
       "      <td>70000.0</td>\n",
       "    </tr>\n",
       "    <tr>\n",
       "      <th>4</th>\n",
       "      <td>Настя</td>\n",
       "      <td>NaN</td>\n",
       "      <td>35000.0</td>\n",
       "    </tr>\n",
       "  </tbody>\n",
       "</table>\n",
       "</div>"
      ],
      "text/plain": [
       "    Name    City    Salary\n",
       "0    Аня   Томск  200000.0\n",
       "1    Боб  Москва  350000.0\n",
       "2  Чарли  Москва  270000.0\n",
       "3   Лиза   Томск   70000.0\n",
       "4  Настя     NaN   35000.0"
      ]
     },
     "execution_count": 25,
     "metadata": {},
     "output_type": "execute_result"
    }
   ],
   "source": [
    "salary_df = pd.read_csv(\"dz.csv\")\n",
    "salary_df.head()"
   ]
  },
  {
   "cell_type": "code",
   "execution_count": 26,
   "id": "550b3d17",
   "metadata": {},
   "outputs": [
    {
     "name": "stdout",
     "output_type": "stream",
     "text": [
      "<class 'pandas.core.frame.DataFrame'>\n",
      "RangeIndex: 12 entries, 0 to 11\n",
      "Data columns (total 3 columns):\n",
      " #   Column  Non-Null Count  Dtype  \n",
      "---  ------  --------------  -----  \n",
      " 0   Name    12 non-null     object \n",
      " 1   City    10 non-null     object \n",
      " 2   Salary  11 non-null     float64\n",
      "dtypes: float64(1), object(2)\n",
      "memory usage: 416.0+ bytes\n"
     ]
    },
    {
     "data": {
      "text/html": [
       "<div>\n",
       "<style scoped>\n",
       "    .dataframe tbody tr th:only-of-type {\n",
       "        vertical-align: middle;\n",
       "    }\n",
       "\n",
       "    .dataframe tbody tr th {\n",
       "        vertical-align: top;\n",
       "    }\n",
       "\n",
       "    .dataframe thead th {\n",
       "        text-align: right;\n",
       "    }\n",
       "</style>\n",
       "<table border=\"1\" class=\"dataframe\">\n",
       "  <thead>\n",
       "    <tr style=\"text-align: right;\">\n",
       "      <th></th>\n",
       "      <th>Salary</th>\n",
       "    </tr>\n",
       "  </thead>\n",
       "  <tbody>\n",
       "    <tr>\n",
       "      <th>count</th>\n",
       "      <td>11.000000</td>\n",
       "    </tr>\n",
       "    <tr>\n",
       "      <th>mean</th>\n",
       "      <td>136727.272727</td>\n",
       "    </tr>\n",
       "    <tr>\n",
       "      <th>std</th>\n",
       "      <td>111891.993377</td>\n",
       "    </tr>\n",
       "    <tr>\n",
       "      <th>min</th>\n",
       "      <td>23000.000000</td>\n",
       "    </tr>\n",
       "    <tr>\n",
       "      <th>25%</th>\n",
       "      <td>57000.000000</td>\n",
       "    </tr>\n",
       "    <tr>\n",
       "      <th>50%</th>\n",
       "      <td>72000.000000</td>\n",
       "    </tr>\n",
       "    <tr>\n",
       "      <th>75%</th>\n",
       "      <td>225000.000000</td>\n",
       "    </tr>\n",
       "    <tr>\n",
       "      <th>max</th>\n",
       "      <td>350000.000000</td>\n",
       "    </tr>\n",
       "  </tbody>\n",
       "</table>\n",
       "</div>"
      ],
      "text/plain": [
       "              Salary\n",
       "count      11.000000\n",
       "mean   136727.272727\n",
       "std    111891.993377\n",
       "min     23000.000000\n",
       "25%     57000.000000\n",
       "50%     72000.000000\n",
       "75%    225000.000000\n",
       "max    350000.000000"
      ]
     },
     "execution_count": 26,
     "metadata": {},
     "output_type": "execute_result"
    }
   ],
   "source": [
    "salary_df.info()\n",
    "salary_df.describe()"
   ]
  },
  {
   "cell_type": "markdown",
   "id": "7540cdb6",
   "metadata": {},
   "source": [
    "Группируем по городам и считаем среднюю зп."
   ]
  },
  {
   "cell_type": "code",
   "execution_count": 27,
   "id": "3270d722",
   "metadata": {},
   "outputs": [
    {
     "name": "stdout",
     "output_type": "stream",
     "text": [
      "City\n",
      "Москва    211400.0\n",
      "Томск      91250.0\n",
      "Name: Salary, dtype: float64\n"
     ]
    }
   ],
   "source": [
    "group = salary_df.groupby('City')['Salary'].mean()\n",
    "\n",
    "print(group)"
   ]
  },
  {
   "cell_type": "markdown",
   "id": "a986609b",
   "metadata": {},
   "source": [
    "## Урок 2"
   ]
  },
  {
   "cell_type": "markdown",
   "id": "5d346ee6",
   "metadata": {},
   "source": [
    "#### Временные ряды"
   ]
  },
  {
   "cell_type": "code",
   "execution_count": 17,
   "id": "4ea7ce59",
   "metadata": {},
   "outputs": [],
   "source": [
    "import pandas as pd\n",
    "import numpy as np"
   ]
  },
  {
   "cell_type": "markdown",
   "id": "d3f456f6",
   "metadata": {},
   "source": [
    "Генерируем датасет"
   ]
  },
  {
   "cell_type": "code",
   "execution_count": 12,
   "id": "aa032cf9",
   "metadata": {},
   "outputs": [],
   "source": [
    "dates = pd.date_range('2022-07-26', periods=10, freq='D')\n",
    "\n",
    "values = np.random.randn(10)\n",
    "\n",
    "df = pd.DataFrame({\"Date\": dates, \"Value\": values})\n",
    "\n",
    "df.set_index(\"Date\", inplace=True)"
   ]
  },
  {
   "cell_type": "markdown",
   "id": "e61694c8",
   "metadata": {},
   "source": [
    "Вывод и резамплирование"
   ]
  },
  {
   "cell_type": "code",
   "execution_count": null,
   "id": "a1f4f9ed",
   "metadata": {},
   "outputs": [],
   "source": [
    "print(df)\n",
    "\n",
    "month = df.resample('ME').mean()\n",
    "\n",
    "print(month)"
   ]
  },
  {
   "cell_type": "markdown",
   "id": "c0b6f003",
   "metadata": {},
   "source": [
    "#### Выбросы"
   ]
  },
  {
   "cell_type": "code",
   "execution_count": 19,
   "id": "30082f41",
   "metadata": {},
   "outputs": [],
   "source": [
    "import matplotlib.pyplot as plt"
   ]
  },
  {
   "cell_type": "markdown",
   "id": "35bdebc5",
   "metadata": {},
   "source": [
    "Создаем датафрейм c выбросом"
   ]
  },
  {
   "cell_type": "code",
   "execution_count": 20,
   "id": "05c8147a",
   "metadata": {},
   "outputs": [],
   "source": [
    "data = {'value': [1, 2, 3, 3, 3, 4, 4, 4, 5, 6, 7, 8, 9, 10, 55]}\n",
    "df = pd.DataFrame(data)"
   ]
  },
  {
   "cell_type": "markdown",
   "id": "0989826f",
   "metadata": {},
   "source": [
    "Первый вариант визуализации"
   ]
  },
  {
   "cell_type": "code",
   "execution_count": null,
   "id": "10007e14",
   "metadata": {},
   "outputs": [],
   "source": [
    "df['value'].hist()\n",
    "plt.show()"
   ]
  },
  {
   "cell_type": "markdown",
   "id": "160bfb29",
   "metadata": {},
   "source": [
    "Второй вариант визуализации"
   ]
  },
  {
   "cell_type": "code",
   "execution_count": null,
   "id": "d3a14fd9",
   "metadata": {},
   "outputs": [],
   "source": [
    "df.boxplot(column='value')\n",
    "plt.show()"
   ]
  },
  {
   "cell_type": "code",
   "execution_count": null,
   "id": "4c6ea384",
   "metadata": {},
   "outputs": [],
   "source": [
    "print(df.describe())"
   ]
  },
  {
   "cell_type": "markdown",
   "id": "eb3f2da2",
   "metadata": {},
   "source": [
    "Убираем выбросы (все что выходит за межквартильный интервал). "
   ]
  },
  {
   "cell_type": "code",
   "execution_count": 33,
   "id": "0c7691b5",
   "metadata": {},
   "outputs": [],
   "source": [
    "# первый квартиль\n",
    "q1 = df['value'].quantile(0.25)\n",
    "# второй квартиль\n",
    "q3 = df['value'].quantile(0.75)\n",
    "# межквартильный размах\n",
    "iqr = q3 - q1\n",
    "\n",
    "# Выбор коэффициента **1.5** основан на эмпирическом наблюдении. \n",
    "# Эта константа была предложена Джоном Тьюки как разумный компромисс \n",
    "# для обнаружения необычных значений (выбросов) в данных\n",
    "downside = q1 - 1.5 * iqr\n",
    "upside = q3 + 1.5 * iqr\n",
    "\n",
    "df_new = df[(df['value'] > downside) & (df['value'] < upside)]\n"
   ]
  },
  {
   "cell_type": "markdown",
   "id": "7d0d3a40",
   "metadata": {},
   "source": [
    "Визуализируем новый датафрейм (без выбросов)."
   ]
  },
  {
   "cell_type": "code",
   "execution_count": null,
   "id": "c2f7fdb8",
   "metadata": {},
   "outputs": [],
   "source": [
    "df_new.boxplot(column='value')\n",
    "plt.show()"
   ]
  },
  {
   "cell_type": "markdown",
   "id": "d9c23b2d",
   "metadata": {},
   "source": [
    "#### Категориальные данные "
   ]
  },
  {
   "cell_type": "markdown",
   "id": "0617f7ec",
   "metadata": {},
   "source": [
    "Создание датафрейма"
   ]
  },
  {
   "cell_type": "code",
   "execution_count": 38,
   "id": "7e8f5d3d",
   "metadata": {},
   "outputs": [],
   "source": [
    "data = {\n",
    "    'name': ['Alice', 'Bob', 'Charlie', 'David', 'Eve'],\n",
    "    'gender': ['female', 'male', 'male', 'male', 'female'],\n",
    "    'department': ['HR', 'Engineering', 'Marketing', 'Engineering', 'HR']\n",
    "}\n",
    "\n",
    "df = pd.DataFrame(data)"
   ]
  },
  {
   "cell_type": "markdown",
   "id": "9198c085",
   "metadata": {},
   "source": [
    "Делаем категории"
   ]
  },
  {
   "cell_type": "code",
   "execution_count": 39,
   "id": "2d05dd93",
   "metadata": {},
   "outputs": [],
   "source": [
    "df['gender'] = df['gender'].astype('category')\n",
    "df['department'] = df['department'].astype('category')"
   ]
  },
  {
   "cell_type": "markdown",
   "id": "c3016ee5",
   "metadata": {},
   "source": [
    "Информация о категориях"
   ]
  },
  {
   "cell_type": "code",
   "execution_count": null,
   "id": "a9395933",
   "metadata": {},
   "outputs": [],
   "source": [
    "print(df['gender'].cat.categories)\n",
    "print(df['department'].cat.categories)\n",
    "\n",
    "print(df['gender'].cat.codes)\n",
    "print(df['department'].cat.codes)"
   ]
  },
  {
   "cell_type": "markdown",
   "id": "81cf5caa",
   "metadata": {},
   "source": [
    "Добавление категории"
   ]
  },
  {
   "cell_type": "code",
   "execution_count": null,
   "id": "cca527af",
   "metadata": {},
   "outputs": [],
   "source": [
    "df['department'] = df['department'].cat.add_categories(['Finance'])\n",
    "print(df['department'].cat.categories)"
   ]
  },
  {
   "cell_type": "markdown",
   "id": "d479a5fb",
   "metadata": {},
   "source": [
    "Удаление категории"
   ]
  },
  {
   "cell_type": "code",
   "execution_count": null,
   "id": "56fe88e5",
   "metadata": {},
   "outputs": [],
   "source": [
    "df['department'] = df['department'].cat.remove_categories(['HR'])\n",
    "print(df['department'].cat.categories)"
   ]
  },
  {
   "cell_type": "code",
   "execution_count": null,
   "id": "a9d0ee43",
   "metadata": {},
   "outputs": [],
   "source": [
    "print(df)"
   ]
  },
  {
   "cell_type": "markdown",
   "id": "343d962e",
   "metadata": {},
   "source": [
    "### Домашка по Уроку 2"
   ]
  },
  {
   "cell_type": "markdown",
   "id": "5e805ef3",
   "metadata": {},
   "source": [
    "Создание датафрейма"
   ]
  },
  {
   "cell_type": "code",
   "execution_count": 52,
   "id": "02db7541",
   "metadata": {},
   "outputs": [
    {
     "name": "stdout",
     "output_type": "stream",
     "text": [
      "     Ученик  Математика  Физика  Русский язык  История  География\n",
      "0   Алексей          85      90            88       85         92\n",
      "1     Борис          90      85            92       88         85\n",
      "2  Владимир          78      92            85       90         88\n",
      "3   Дмитрий          92      88            90       92         90\n",
      "4     Елена          88      76            95       89         84\n"
     ]
    }
   ],
   "source": [
    "data = {\n",
    "    'Ученик': ['Алексей', 'Борис', 'Владимир', 'Дмитрий', 'Елена', 'Федор', 'Георгий', 'Харитон', 'Иван', 'Юлия'],\n",
    "    'Математика': [85, 90, 78, 92, 88, 76, 95, 89, 84, 91],\n",
    "    'Физика': [90, 85, 92, 88, 76, 95, 89, 84, 91, 93],\n",
    "    'Русский язык': [88, 92, 85, 90, 95, 89, 84, 91, 93, 86],\n",
    "    'История': [85, 88, 90, 92, 89, 84, 91, 93, 86, 95],\n",
    "    'География': [92, 85, 88, 90, 84, 91, 93, 86, 95, 89]\n",
    "}\n",
    "\n",
    "df = pd.DataFrame(data)\n",
    "\n",
    "print(df.head())"
   ]
  },
  {
   "cell_type": "markdown",
   "id": "563178ed",
   "metadata": {},
   "source": [
    "Средняя оценка"
   ]
  },
  {
   "cell_type": "code",
   "execution_count": null,
   "id": "4e67088b",
   "metadata": {},
   "outputs": [
    {
     "name": "stdout",
     "output_type": "stream",
     "text": [
      "Математика      86.8\n",
      "Физика          88.3\n",
      "Русский язык    89.3\n",
      "История         89.3\n",
      "География       89.3\n",
      "dtype: float64\n"
     ]
    }
   ],
   "source": [
    "average_grades = df[['Математика', 'Физика', 'Русский язык', 'История', 'География']].mean()\n",
    "\n",
    "print(average_grades)"
   ]
  },
  {
   "cell_type": "markdown",
   "id": "80f5b00c",
   "metadata": {},
   "source": [
    "Медианная оценка"
   ]
  },
  {
   "cell_type": "code",
   "execution_count": 56,
   "id": "00c4bebf",
   "metadata": {},
   "outputs": [
    {
     "name": "stdout",
     "output_type": "stream",
     "text": [
      "Математика      88.5\n",
      "Физика          89.5\n",
      "Русский язык    89.5\n",
      "История         89.5\n",
      "География       89.5\n",
      "dtype: float64\n"
     ]
    }
   ],
   "source": [
    "median_grades = df[['Математика', 'Физика', 'Русский язык', 'История', 'География']].median()\n",
    "\n",
    "print(median_grades)"
   ]
  },
  {
   "cell_type": "markdown",
   "id": "64d97361",
   "metadata": {},
   "source": [
    "Q1 и Q3"
   ]
  },
  {
   "cell_type": "code",
   "execution_count": 59,
   "id": "02effe61",
   "metadata": {},
   "outputs": [
    {
     "name": "stdout",
     "output_type": "stream",
     "text": [
      "Q1 по математике: 84.25\n",
      "Q3 по математике: 90.75\n",
      "IQR по математике: 6.5\n"
     ]
    }
   ],
   "source": [
    "q1_math = df['Математика'].quantile(0.25)\n",
    "\n",
    "q3_math = df['Математика'].quantile(0.75)\n",
    "\n",
    "iqr = q3_math - q1_math\n",
    "\n",
    "print(f\"Q1 по математике: {q1_math}\")\n",
    "print(f\"Q3 по математике: {q3_math}\")\n",
    "print(f\"IQR по математике: {iqr}\")"
   ]
  },
  {
   "cell_type": "markdown",
   "id": "d2d55e7f",
   "metadata": {},
   "source": [
    "Стандартное отклонение"
   ]
  },
  {
   "cell_type": "code",
   "execution_count": 60,
   "id": "6e6fd885",
   "metadata": {},
   "outputs": [
    {
     "name": "stdout",
     "output_type": "stream",
     "text": [
      "Математика      6.088240\n",
      "Физика          5.498485\n",
      "Русский язык    3.591657\n",
      "История         3.591657\n",
      "География       3.591657\n",
      "dtype: float64\n"
     ]
    }
   ],
   "source": [
    "std_dev = df[['Математика', 'Физика', 'Русский язык', 'История', 'География']].std()\n",
    "\n",
    "print(std_dev)"
   ]
  },
  {
   "cell_type": "markdown",
   "id": "01ff1310",
   "metadata": {},
   "source": [
    "## Урок 3"
   ]
  },
  {
   "cell_type": "markdown",
   "id": "cb38a111",
   "metadata": {},
   "source": [
    "### Виды диаграмм"
   ]
  },
  {
   "cell_type": "markdown",
   "id": "9cc2a32f",
   "metadata": {},
   "source": [
    "Линейный график"
   ]
  },
  {
   "cell_type": "code",
   "execution_count": null,
   "id": "9f2a761a",
   "metadata": {},
   "outputs": [],
   "source": [
    "import matplotlib.pyplot as plt\n",
    "\n",
    "x = [2,6,8,14,20]\n",
    "y = [6,4,10,12,16]\n",
    "\n",
    "plt.plot(x, y, 'ro')\n",
    "plt.title('Пример простого линейного графика')\n",
    "plt.xlabel(\"x ось\")\n",
    "plt.ylabel(\"y ось\")\n",
    "plt.show()"
   ]
  },
  {
   "cell_type": "markdown",
   "id": "f6596276",
   "metadata": {},
   "source": [
    "Гистограмма"
   ]
  },
  {
   "cell_type": "code",
   "execution_count": null,
   "id": "55e460dd",
   "metadata": {},
   "outputs": [],
   "source": [
    "data = [1, 2, 2, 3, 4, 4, 4, 5, 6, 6, 6, 6, 6]\n",
    "\n",
    "plt.hist(data, bins=6)\n",
    "plt.xlabel(\"x ось\")\n",
    "plt.ylabel(\"y ось\")\n",
    "plt.title(\"Тестовая гистограмма\")\n",
    "\n",
    "plt.show()"
   ]
  },
  {
   "cell_type": "markdown",
   "id": "b33f7e25",
   "metadata": {},
   "source": [
    "Рассеяние"
   ]
  },
  {
   "cell_type": "code",
   "execution_count": null,
   "id": "e7b6052a",
   "metadata": {},
   "outputs": [],
   "source": [
    "x = [1,4,6,7]\n",
    "y = [3,5,8,10]\n",
    "\n",
    "plt.scatter(x, y)\n",
    "plt.xlabel(\"x ось\")\n",
    "plt.ylabel(\"y ось\")\n",
    "plt.title(\"Тестовая диаграмма рассеяния\")\n",
    "\n",
    "plt.show()"
   ]
  },
  {
   "cell_type": "markdown",
   "id": "e99bcc57",
   "metadata": {},
   "source": [
    "### Модуль Numpy"
   ]
  },
  {
   "cell_type": "code",
   "execution_count": null,
   "id": "b47699fe",
   "metadata": {},
   "outputs": [],
   "source": [
    "import numpy as np\n",
    "\n",
    "a = np.array([1,2,3,4])\n",
    "print(a)\n"
   ]
  },
  {
   "cell_type": "markdown",
   "id": "17de05ab",
   "metadata": {},
   "source": [
    "Заполнение нулями"
   ]
  },
  {
   "cell_type": "code",
   "execution_count": null,
   "id": "21621a13",
   "metadata": {},
   "outputs": [],
   "source": [
    "a = np.zeros((3,3))\n",
    "print(a)\n"
   ]
  },
  {
   "cell_type": "markdown",
   "id": "eeecde49",
   "metadata": {},
   "source": [
    "Заполнение еденицами"
   ]
  },
  {
   "cell_type": "code",
   "execution_count": null,
   "id": "ec83ec50",
   "metadata": {},
   "outputs": [],
   "source": [
    "a = np.ones((3,3))\n",
    "print(a)"
   ]
  },
  {
   "cell_type": "markdown",
   "id": "df4ecdb5",
   "metadata": {},
   "source": [
    "Заполнение рандомными числами (до 1)"
   ]
  },
  {
   "cell_type": "code",
   "execution_count": null,
   "id": "17e2ee5e",
   "metadata": {},
   "outputs": [],
   "source": [
    "a = np.random.random((3,3))\n",
    "print(a)"
   ]
  },
  {
   "cell_type": "markdown",
   "id": "0f938bac",
   "metadata": {},
   "source": [
    "Заполнение интервалом"
   ]
  },
  {
   "cell_type": "code",
   "execution_count": null,
   "id": "c790cf8d",
   "metadata": {},
   "outputs": [],
   "source": [
    "a  = np.arange(0, 10, 2)\n",
    "print(a)"
   ]
  },
  {
   "cell_type": "markdown",
   "id": "5e754cc8",
   "metadata": {},
   "source": [
    "Заполнение равнораспределенными числами"
   ]
  },
  {
   "cell_type": "code",
   "execution_count": null,
   "id": "7f709579",
   "metadata": {},
   "outputs": [],
   "source": [
    "a = np.linspace(0, 13, 10)\n",
    "print(a)"
   ]
  },
  {
   "cell_type": "markdown",
   "id": "b5333828",
   "metadata": {},
   "source": [
    "График с синтезированными данными"
   ]
  },
  {
   "cell_type": "code",
   "execution_count": null,
   "id": "9aac1974",
   "metadata": {},
   "outputs": [],
   "source": [
    "x = np.linspace(-10, 10, 100)\n",
    "\n",
    "y = x**2\n",
    "\n",
    "plt.plot(x, y)\n",
    "plt.xlabel(\"x ось\")\n",
    "plt.ylabel(\"y ось\")\n",
    "plt.title(\"График функции y = x**2\")\n",
    "plt.grid(True)\n",
    "\n",
    "plt.show()"
   ]
  },
  {
   "cell_type": "markdown",
   "id": "593ad2dd",
   "metadata": {},
   "source": [
    "Кейс с использованием графиков (парсинг цен на квартиры)"
   ]
  },
  {
   "cell_type": "markdown",
   "id": "dc053c26",
   "metadata": {},
   "source": [
    "Парсинг"
   ]
  },
  {
   "cell_type": "code",
   "execution_count": 18,
   "id": "0bf2d992",
   "metadata": {},
   "outputs": [],
   "source": [
    "from selenium import webdriver\n",
    "from selenium.webdriver.common.by import By\n",
    "from selenium.webdriver.chrome.service import Service\n",
    "import time\n",
    "\n",
    "# Импортируем модуль CSV\n",
    "import csv\n",
    "\n",
    "# Если используем Google Chrome, то пишем driver = webdriver.Chrome()\n",
    "driver = webdriver.Chrome()\n",
    "\n",
    "# URL страницы\n",
    "url = 'https://www.cian.ru/snyat-kvartiru-1-komn-ili-2-komn/'\n",
    "\n",
    "# Открытие страницы\n",
    "driver.get(url)\n",
    "\n",
    "# Ждем некоторое время, чтобы страница полностью загрузилась\n",
    "time.sleep(5)\n",
    "\n",
    "# Парсинг цен\n",
    "prices = driver.find_elements(By.XPATH, \"//span[@data-mark='MainPrice']/span\")\n",
    "\n",
    "# Открытие CSV файла для записи\n",
    "with open('prices.csv', mode='w', newline='', encoding='utf-8') as file:\n",
    "   writer = csv.writer(file)\n",
    "   writer.writerow(['Price'])  # Записываем заголовок столбца\n",
    "\n",
    " # Записываем цены в CSV файл\n",
    "   for price in prices:\n",
    "       writer.writerow([price.text])\n",
    "\n",
    "# Закрытие драйвера\n",
    "driver.quit()"
   ]
  },
  {
   "cell_type": "markdown",
   "id": "53ff1c25",
   "metadata": {},
   "source": [
    "Преобразование и очистка"
   ]
  },
  {
   "cell_type": "code",
   "execution_count": 19,
   "id": "c0258b56",
   "metadata": {},
   "outputs": [
    {
     "name": "stdout",
     "output_type": "stream",
     "text": [
      "Обработанные данные сохранены в файл cleaned_prices.csv\n"
     ]
    }
   ],
   "source": [
    "import csv\n",
    "\n",
    "\n",
    "def clean_price(price):\n",
    "   # Удаляем \"₽/мес.\" и преобразуем в число\n",
    "   return int(price.replace(' ₽/мес.', '').replace(' ', ''))\n",
    "\n",
    "# Чтение данных из исходного CSV файла и их обработка\n",
    "input_file = 'prices.csv'\n",
    "output_file = 'cleaned_prices.csv'\n",
    "\n",
    "with open(input_file, mode='r', encoding='utf-8') as infile, open(output_file, mode='w', newline='', encoding='utf-8') as outfile:\n",
    "   reader = csv.reader(infile)\n",
    "   writer = csv.writer(outfile)\n",
    "\n",
    "   # Читаем заголовок и записываем его в новый файл\n",
    "   header = next(reader)\n",
    "   writer.writerow(header)\n",
    " \n",
    "\n",
    " # Обрабатываем и записываем данные строк\n",
    "   for row in reader:\n",
    "       clean_row = [clean_price(row[0])]\n",
    "       writer.writerow(clean_row)\n",
    "\n",
    "print(f\"Обработанные данные сохранены в файл {output_file}\")  "
   ]
  },
  {
   "cell_type": "markdown",
   "id": "eba5aeff",
   "metadata": {},
   "source": [
    "Построение графика"
   ]
  },
  {
   "cell_type": "code",
   "execution_count": null,
   "id": "be71d873",
   "metadata": {},
   "outputs": [],
   "source": [
    "import pandas as pd\n",
    "import matplotlib.pyplot as plt\n",
    "\n",
    "# Загрузка данных из CSV-файла\n",
    "file_path = 'cleaned_prices.csv'\n",
    "data = pd.read_csv(file_path)\n",
    "\n",
    "# Предположим, что столбец с ценами называется 'price'\n",
    "prices = data['Price']\n",
    "\n",
    "# Построение гистограммы\n",
    "plt.hist(prices, bins=10, edgecolor='black')  \n",
    "\n",
    "# Мы можем изменить количество bin-ов по своему усмотрению\n",
    "\n",
    "# Добавление заголовка и меток осей\n",
    "plt.title('Гистограмма цен')\n",
    "plt.xlabel('Цена')\n",
    "plt.ylabel('Частота')\n",
    "\n",
    "# Показать гистограмму\n",
    "plt.show()"
   ]
  },
  {
   "cell_type": "markdown",
   "id": "5b3b0de5",
   "metadata": {},
   "source": [
    "### Домашка"
   ]
  },
  {
   "cell_type": "markdown",
   "id": "ab319746",
   "metadata": {},
   "source": [
    "Гистограмма случайных данных"
   ]
  },
  {
   "cell_type": "code",
   "execution_count": 21,
   "id": "934b3f52",
   "metadata": {},
   "outputs": [
    {
     "data": {
      "image/png": "[encoded data removed]",
      "text/plain": [
       "<Figure size 640x480 with 1 Axes>"
      ]
     },
     "metadata": {},
     "output_type": "display_data"
    }
   ],
   "source": [
    "import numpy as np\n",
    "import matplotlib.pyplot as plt\n",
    "\n",
    "# Параметры нормального распределения\n",
    "mean = 0 # Среднее значение\n",
    "std_dev = 1 # Стандартное отклонение\n",
    "num_samples = 1000 # Количество образцов\n",
    "\n",
    "# Генерация случайных чисел, распределенных по нормальному распределению\n",
    "data = np.random.normal(mean, std_dev, num_samples)\n",
    "\n",
    "plt.hist(data, bins=30, density=True, alpha=0.6, color='g')\n",
    "plt.title('Гистограмма нормального распределения')\n",
    "plt.xlabel('Значение')\n",
    "plt.ylabel('Плотность вероятности')\n",
    "plt.grid()\n",
    "plt.show()"
   ]
  },
  {
   "cell_type": "markdown",
   "id": "aff2db95",
   "metadata": {},
   "source": [
    "Диаграмма рассеяния"
   ]
  },
  {
   "cell_type": "code",
   "execution_count": 34,
   "id": "fcfeedfd",
   "metadata": {},
   "outputs": [
    {
     "data": {
      "image/png": "[encoded data removed]",
      "text/plain": [
       "<Figure size 640x480 with 1 Axes>"
      ]
     },
     "metadata": {},
     "output_type": "display_data"
    }
   ],
   "source": [
    "import numpy as np\n",
    "import matplotlib.pyplot as plt\n",
    "\n",
    "random_array_x = np.random.rand(5) # массив из 5 случайных чисел\n",
    "random_array_y = np.random.rand(5) # массив из 5 случайных чисел\n",
    "\n",
    "plt.scatter(random_array_x, random_array_y, color='blue', marker='o')\n",
    "plt.xlabel('Случайные числа X')\n",
    "plt.ylabel('Случайные числа Y')\n",
    "plt.grid()\n",
    "plt.title('Диаграмма рассеяния случайных чисел')\n",
    "plt.show()"
   ]
  },
  {
   "cell_type": "markdown",
   "id": "1df892e9",
   "metadata": {},
   "source": [
    "Парсим цены на диваны"
   ]
  },
  {
   "cell_type": "code",
   "execution_count": 32,
   "id": "9ce5214f",
   "metadata": {},
   "outputs": [
    {
     "name": "stdout",
     "output_type": "stream",
     "text": [
      "Данные успешно собраны и записаны в divan_prices.csv\n"
     ]
    }
   ],
   "source": [
    "from selenium import webdriver\n",
    "from selenium.webdriver.common.by import By\n",
    "from selenium.webdriver.chrome.service import Service\n",
    "import time\n",
    "import csv\n",
    "\n",
    "# Функция очистки и преобразования цен\n",
    "def clean_price(price_str):\n",
    "    if price_str and price_str.strip() not in [\"\", \"{}\", \"\"]:\n",
    "        cleaned = price_str.replace(\"руб.\", \"\").replace(\" \", \"\").strip()\n",
    "        try:\n",
    "            return int(cleaned)\n",
    "        except ValueError:\n",
    "            return price_str  # Возвращаем оригинальную строку для заголовка\n",
    "    return None\n",
    "\n",
    "# Инициализация драйвера с использованием ChromeDriverManager (опционально, для автоматической установки драйвера)\n",
    "driver = webdriver.Chrome()\n",
    "\n",
    "# URL страницы\n",
    "url = 'https://www.divan.ru/category/promo-supertop/'\n",
    "\n",
    "# Открытие страницы\n",
    "driver.get(url)\n",
    "\n",
    "# Ждем некоторое время, чтобы страница полностью загрузилась\n",
    "time.sleep(5)\n",
    "\n",
    "# Получение всех элементов с ценами\n",
    "price_elements = driver.find_elements(By.XPATH, \"//span[@data-testid='price']\")\n",
    "\n",
    "# Извлечение и очистка текста с ценами\n",
    "prices = [clean_price(element.text) for element in price_elements if clean_price(element.text) is not None]\n",
    "\n",
    "# Открытие CSV файла для записи\n",
    "with open('divan_prices.csv', mode='w', newline='', encoding='utf-8') as file:\n",
    "    writer = csv.writer(file)\n",
    "    writer.writerow(['Price'])  # Записываем заголовок столбца\n",
    "    # Записываем очищенные цены в CSV файл\n",
    "    for price in prices:\n",
    "        writer.writerow([price])\n",
    "\n",
    "# Закрытие драйвера\n",
    "driver.quit()\n",
    "\n",
    "print(\"Данные успешно собраны и записаны в divan_prices.csv\")\n"
   ]
  },
  {
   "cell_type": "markdown",
   "id": "cc75b69c",
   "metadata": {},
   "source": [
    "Построение графика"
   ]
  },
  {
   "cell_type": "code",
   "execution_count": 33,
   "id": "70249286",
   "metadata": {},
   "outputs": [
    {
     "data": {
      "image/png": "[encoded data removed]",
      "text/plain": [
       "<Figure size 640x480 with 1 Axes>"
      ]
     },
     "metadata": {},
     "output_type": "display_data"
    }
   ],
   "source": [
    "import pandas as pd\n",
    "import matplotlib.pyplot as plt\n",
    "\n",
    "# Загрузка данных из CSV-файла\n",
    "file_path = 'divan_prices.csv'\n",
    "data = pd.read_csv(file_path)\n",
    "\n",
    "# Предположим, что столбец с ценами называется 'price'\n",
    "prices = data['Price']\n",
    "\n",
    "# Построение гистограммы\n",
    "plt.hist(prices, bins=10, edgecolor='black')  \n",
    "\n",
    "# Добавление заголовка и меток осей\n",
    "plt.title('Гистограмма цен на диваны')\n",
    "plt.xlabel('Цена')\n",
    "plt.ylabel('Частота')\n",
    "\n",
    "# Показать гистограмму\n",
    "plt.show()"
   ]
  },
  {
   "cell_type": "markdown",
   "id": "2f97af81",
   "metadata": {},
   "source": [
    "Очистка (для проверки, сейчас встроена в основной блок)"
   ]
  },
  {
   "cell_type": "code",
   "execution_count": 30,
   "id": "fe887356",
   "metadata": {},
   "outputs": [
    {
     "name": "stdout",
     "output_type": "stream",
     "text": [
      "Данные очищены и записаны в cleaned_divan_prices.csv\n"
     ]
    }
   ],
   "source": [
    "import csv\n",
    "\n",
    "# Функция очистки и преобразования цен\n",
    "def clean_price(price_str):\n",
    "    if price_str and price_str.strip() not in [\"\", \"{}\", \"\"]:\n",
    "        cleaned = price_str.replace(\"руб.\", \"\").replace(\" \", \"\").strip()\n",
    "        try:\n",
    "            return int(cleaned)\n",
    "        except ValueError:\n",
    "            return price_str  # Возвращаем оригинальную строку для заголовка\n",
    "    return None\n",
    "\n",
    "# Чтение из файла divan_prices.csv\n",
    "with open('divan_prices.csv', 'r', encoding='utf-8') as file:\n",
    "    reader = csv.reader(file)\n",
    "    prices = [row[0] for row in reader]  # Предполагается, что цена в первом столбце\n",
    "\n",
    "# Очистка данных\n",
    "cleaned_prices = [clean_price(price) for price in prices]\n",
    "\n",
    "# Запись в файл cleaned_divan_prices.csv\n",
    "with open('cleaned_divan_prices.csv', 'w', encoding='utf-8', newline='') as file:\n",
    "    writer = csv.writer(file)\n",
    "    for price in cleaned_prices:\n",
    "        if price is not None:\n",
    "            writer.writerow([price])\n",
    "\n",
    "print(\"Данные очищены и записаны в cleaned_divan_prices.csv\")"
   ]
  }
 ],
 "metadata": {
  "kernelspec": {
   "display_name": ".venv (3.10.10)",
   "language": "python",
   "name": "python3"
  },
  "language_info": {
   "codemirror_mode": {
    "name": "ipython",
    "version": 3
   },
   "file_extension": ".py",
   "mimetype": "text/x-python",
   "name": "python",
   "nbconvert_exporter": "python",
   "pygments_lexer": "ipython3",
   "version": "3.10.10"
  }
 },
 "nbformat": 4,
 "nbformat_minor": 5
}
